{
  "nbformat": 4,
  "nbformat_minor": 0,
  "metadata": {
    "colab": {
      "provenance": [],
      "authorship_tag": "ABX9TyNbt7JLe/eagBzrZsjajgkM",
      "include_colab_link": true
    },
    "kernelspec": {
      "name": "python3",
      "display_name": "Python 3"
    },
    "language_info": {
      "name": "python"
    }
  },
  "cells": [
    {
      "cell_type": "markdown",
      "metadata": {
        "id": "view-in-github",
        "colab_type": "text"
      },
      "source": [
        "<a href=\"https://colab.research.google.com/github/hellocrisel/data-science/blob/main/Black-Scholes-Merton%20.ipynb\" target=\"_parent\"><img src=\"https://colab.research.google.com/assets/colab-badge.svg\" alt=\"Open In Colab\"/></a>"
      ]
    },
    {
      "cell_type": "markdown",
      "source": [
        "#**Task Objective:**\n",
        "\n",
        "The following tasks should be completed using python in the form of a Jupyter notebook.\n",
        "Importing functions/libraries, apart from the final pricers themselves, is allowed and encouraged.\n",
        "\n",
        "1. Create functions which can calculate the Black-Scholes-Merton present value of European call\n",
        "and put options. The functions should take the following arguments: strike, time to maturity,\n",
        "spot, interest rate, dividend yield, volatility.\n",
        "2. Create a function which can calculate the present value of an equity forward contract. It should\n",
        "use a subset of the arguments of the option function. Again, assume there are no dividends.\n",
        "3. Using the functions created above, calculate the present value of the following contracts:\n",
        "\n",
        "  a) A call option on the S&amp;P 500\n",
        "\n",
        "  b) A put option on the S&amp;P 500\n",
        "\n",
        "  c) A forward contract on the S&amp;P 500\n",
        "using the parameters and market data from Table 1 .\n",
        "\n",
        "* Strike $4700\n",
        "\n",
        "* Time to Maturity(years) 0.25\n",
        "* Spot $4450\n",
        "* Interest rate 5.5%\n",
        "* Dividend Yield 1.5%\n",
        "* Volatility 15%\n",
        "\n",
        "  d) Show that put-call parity is satisfied by your functions with these inputs.\n",
        "\n",
        "  e) Calculate the delta and gamma of the put option above using a numerical method.\n",
        "\n",
        "  \n",
        "4. (Non-coding) If the strike of the option was $5000, would you expect the volatility to be higher\n",
        "or lower? Why?\n",
        "5. (Non-coding) Does the gamma of a forward contract depend on the current stock price? Does it\n",
        "depend on the strike price? Why?\n",
        "6. (Non-coding) Consider a cash-settled call option where the underlying is a bespoke basket of 2\n",
        "indexes: the United States’ S&amp;P500 and the UK’s FTSE 100. The value of the basket is defined as\n",
        "the sum of the 2 indexes in exactly 6 months. What market data would be required to price this\n",
        "instrument?\n"
      ],
      "metadata": {
        "id": "F7anjygnybRn"
      }
    },
    {
      "cell_type": "markdown",
      "source": [
        "# **Importing the necessary libraries**"
      ],
      "metadata": {
        "id": "3pdz2cYodsbu"
      }
    },
    {
      "cell_type": "code",
      "execution_count": 1,
      "metadata": {
        "id": "4IMzp2ZuyX8c"
      },
      "outputs": [],
      "source": [
        "import numpy as np\n",
        "from scipy.stats import norm"
      ]
    },
    {
      "cell_type": "markdown",
      "source": [
        "###**1. Calculate the present value a European call and put option using the Black-Scholes-Merton option pricing model**\n",
        "\n",
        "$C=S_\n",
        "0\n",
        "​\n",
        " ⋅e\n",
        "−q^T\n",
        " ⋅N(d\n",
        "1\n",
        "​\n",
        " )−X⋅e\n",
        "−rT\n",
        " ⋅N(d\n",
        "_2\n",
        "​\n",
        " )$\n",
        "\n",
        " $P$ = $P=X⋅e\n",
        "−rT\n",
        " ⋅N(−d\n",
        "2\n",
        "​\n",
        " )−S\n",
        "0\n",
        "​\n",
        " ⋅e\n",
        "−qT\n",
        " ⋅N(−d\n",
        "1\n",
        "​\n",
        " )\n",
        "$\n",
        "\n",
        " **$d1$ and $d2$ are calculated as:**\n",
        "\n",
        "$d1$ $=$ $\\frac{ln (\\frac{S_0}{X}) + ( r - q + \\frac{\\sigma^2}{2} ) T } {\\sigma\\sqrt {T}}$\n",
        "\n",
        "\n",
        "\n",
        "\n",
        "\n",
        "\n",
        " $d2$ $=$ $d1$ $-$ $\\sigma \\sqrt T$\n",
        "\n",
        "\n",
        "\n",
        ""
      ],
      "metadata": {
        "id": "g2NNQ1NcqDoY"
      }
    },
    {
      "cell_type": "code",
      "source": [
        "#defines the function black_scholes_put and specifies its input parameters, which are essential for option pricing. The parameters include the strike price, time to maturity, current spot price of the underlying asset, interest rate, dividend yield, and volatility.\n",
        "def black_scholes_call(strike, time_to_maturity, spot, interest_rate, dividend_yield, volatility):\n",
        "    d1 = (np.log(spot / strike) + (interest_rate - dividend_yield + 0.5 * volatility**2) * time_to_maturity) / (volatility * np.sqrt(time_to_maturity))\n",
        "    d2 = d1 - volatility * np.sqrt(time_to_maturity)\n",
        "    call_price = spot * np.exp(-dividend_yield * time_to_maturity) * norm.cdf(d1) - strike * np.exp(-interest_rate * time_to_maturity) * norm.cdf(d2)\n",
        "    return call_price"
      ],
      "metadata": {
        "id": "XGGYPzNKzGSB"
      },
      "execution_count": 2,
      "outputs": []
    },
    {
      "cell_type": "markdown",
      "source": [
        "###**Calculate the present value of a European put option using Black-Scholes-Merton pricing model**"
      ],
      "metadata": {
        "id": "9dy_a9Mqq0q1"
      }
    },
    {
      "cell_type": "code",
      "source": [
        "# define the function black_scholes_put and specifies its input parameters, which are essential for option pricing (strike price, time to maturity, current spot price of the underlying asset, interest rate, dividend yield, and volatility.)\n",
        "def black_scholes_put(strike, time_to_maturity, spot, interest_rate, dividend_yield, volatility):\n",
        "    d1 = (np.log(spot / strike) + (interest_rate - dividend_yield + 0.5 * volatility**2) * time_to_maturity) / (volatility * np.sqrt(time_to_maturity)) #\n",
        "    d2 = d1 - volatility * np.sqrt(time_to_maturity)\n",
        "    put_price = strike * np.exp(-interest_rate * time_to_maturity) * norm.cdf(-d2) - spot * np.exp(-dividend_yield * time_to_maturity) * norm.cdf(-d1)\n",
        "    return put_price"
      ],
      "metadata": {
        "id": "vdxFp2xmzb3B"
      },
      "execution_count": 3,
      "outputs": []
    },
    {
      "cell_type": "markdown",
      "source": [
        "###**2. Calculate the present value of an equity forward contract**\n",
        " **Forward Price**\n",
        "\n",
        "$F=S_0\n",
        "​\n",
        " ⋅e\n",
        "(r−q)T$"
      ],
      "metadata": {
        "id": "mB9Rds_ssfm6"
      }
    },
    {
      "cell_type": "code",
      "source": [
        "#define the function forward_contract_value and specifies its three input parameters ( spot, interest_rate, time_to_maturity)\n",
        "def forward_contract_value(spot, interest_rate, time_to_maturity):\n",
        "    forward_price = spot * np.exp(interest_rate * time_to_maturity)\n",
        "    return forward_price"
      ],
      "metadata": {
        "id": "ynWRrUhjzfjB"
      },
      "execution_count": 4,
      "outputs": []
    },
    {
      "cell_type": "markdown",
      "source": [
        "## 3. **Calculate the present value of the contracts**\n",
        "    a. A call option on the S&P 500\n",
        "    b. A put option on the S&P 500\n",
        "    c. A forward contract on the S&P 500\n",
        "\n",
        "Given the market data:\n",
        "\n",
        " $X$ (Strike Price) = 4700\n",
        "\n",
        " $T$ (Time to maturity; years) = 0.25\n",
        "\n",
        " $S_0$ (Spot price) = 4450\n",
        "\n",
        " $r$ (interest rate) = 5.5%\n",
        "\n",
        " $q$ (dividend yield) = 1.5%\n",
        "\n",
        " $\\sigma$ (volatility) = 15%\n",
        "\n"
      ],
      "metadata": {
        "id": "NTWNIXZgufNg"
      }
    },
    {
      "cell_type": "code",
      "source": [
        "# Given market data\n",
        "strike = 4700\n",
        "time_to_maturity = 0.25\n",
        "spot = 4450\n",
        "interest_rate = 0.055  # 5.5%\n",
        "dividend_yield = 0.015  # 1.5%\n",
        "volatility = 0.15  # 15%\n",
        "\n",
        "# Calculate the present value of the contracts\n",
        "# Present value of all option on the S&P500\n",
        "call_price = black_scholes_call(strike, time_to_maturity, spot, interest_rate, dividend_yield, volatility)\n",
        "\n",
        "#Present value of put option on the S&P500\n",
        "put_price = black_scholes_put(strike, time_to_maturity, spot, interest_rate, dividend_yield, volatility)\n",
        "\n",
        "#Present value of forward contract on the S&P500\n",
        "forward_price = forward_contract_value(spot, interest_rate, time_to_maturity)\n",
        "\n",
        "print(f\"Call Option Price: {call_price:.2f}\")\n",
        "print(f\"Put Option Price: {put_price:.2f}\")\n",
        "print(f\"Forward Contract Price: {forward_price:.2f}\")\n"
      ],
      "metadata": {
        "colab": {
          "base_uri": "https://localhost:8080/"
        },
        "id": "GZL8RFmlzqe7",
        "outputId": "76741358-7bd9-4ac2-d87c-c877034f1703"
      },
      "execution_count": 5,
      "outputs": [
        {
          "output_type": "stream",
          "name": "stdout",
          "text": [
            "Call Option Price: 57.75\n",
            "Put Option Price: 260.23\n",
            "Forward Contract Price: 4511.61\n"
          ]
        }
      ]
    },
    {
      "cell_type": "markdown",
      "source": [
        "**Explanations:**\n",
        "\n",
        "**A. The call option price is 57.75**\n",
        "* This value of 57.75 represents the current market price of a European call option on the S&P 500. A call option gives the holder the right, but not the obligation, to buy the S&P 500 at a specified strike price (in this case, 4,700) before or at the option's expiration (in this case, 0.25 years).\n",
        "  \n",
        "* The current market price for this call option is $57.75. This is the cost to acquire the right to buy the S&P 500 at the specified strike price.\n",
        "\n",
        "\n",
        "**B. Put Option Price: 260.23**\n",
        "* The value of 260.23 represents the current market price of a European put option on the S&P 500. A put option gives the holder the right, but not the obligation, to sell the S&P 500 at a specified strike price (in this case, 4,700) before or at the option's expiration (in this case, 0.25 years).\n",
        "  \n",
        "* The current market price for this put option is $260.23. This is the cost to acquire the right to sell the S&P 500 at the specified strike price.\n",
        "\n",
        "**C. Forward Contract Price: 4511.61**\n",
        "  * The value of 4511.61 represents the current market price of a forward contract on the S&P 500. A forward contract is an agreement to buy or sell the S&P 500 at a predetermined price (in this case, the current spot price of 4450) at a future date (in this case, 0.25 years) regardless of the S&P 500's market price at that time.\n",
        "\n",
        "  * The current market price for this forward contract is 4511.61. This represents the cost or value of entering into the contract to buy the S&P 500 at a future date at the current spot price.\n",
        "\n"
      ],
      "metadata": {
        "id": "8IaIWgTPxukz"
      }
    },
    {
      "cell_type": "markdown",
      "source": [
        "##**D. Put-Call Parity Verification**"
      ],
      "metadata": {
        "id": "96xq0rRxuLY3"
      }
    },
    {
      "cell_type": "code",
      "source": [
        "# Put-Call Parity Verification\n",
        "put_call_parity = call_price - put_price\n",
        "forward_parity = spot - strike * np.exp(-interest_rate * time_to_maturity)\n",
        "\n",
        "print(f\"Put-Call Parity (C - P): {put_call_parity:.2f}\")\n",
        "print(f\"Forward Parity (S - Xe^(-rT)): {forward_parity:.2f}\")\n"
      ],
      "metadata": {
        "colab": {
          "base_uri": "https://localhost:8080/"
        },
        "id": "rZmJ4qCMzsQU",
        "outputId": "9cc1ee45-328b-4ad5-d580-55d3cc2e48fe"
      },
      "execution_count": 6,
      "outputs": [
        {
          "output_type": "stream",
          "name": "stdout",
          "text": [
            "Put-Call Parity (C - P): -202.47\n",
            "Forward Parity (S - Xe^(-rT)): -185.82\n"
          ]
        }
      ]
    },
    {
      "cell_type": "markdown",
      "source": [
        "**Explanation:**\n",
        "\n",
        "**Put-Call Parity** is an important principle in options pricing. It relates the prices of European call and put options with the same strike price and maturity, along with the price of the underlying asset. In other words, it's a relationship that helps ensure that the prices of call and put options are in balance, and there are no arbitrage opportunities.\n",
        "\n",
        "**put_call_parity** is calculating the difference between the price of a call option (call_price) and a put option (put_price) with the same strike price and maturity. This represents the difference in the cost of having the right to buy and the cost of having the right to sell the underlying asset.\n",
        "\n",
        "**forward_parity** calculates the difference between the current spot price (spot) and the expected forward price at maturity, which is calculated as strike * np.exp(-interest_rate * time_to_maturity). This represents the difference in the value of the underlying asset itself and what it should be worth at maturity, considering the interest rate.\n",
        "\n",
        "So, in this code, we are calculating and displaying both put_call_parity and forward_parity to check if they are indeed equal, as Put-Call Parity dictates. If they are not equal, it suggests that something might be amiss in the options or underlying asset pricing, and there could be an opportunity for traders to profit from market inefficiencies. It's a way of double-checking the consistency of the prices in the options and underlying asset market.\n",
        "\n",
        "* **D. In this case, the negative value of -202.47 suggests that the relationship is not in equilibrium, indicating that the call option is trading at a lower price than expected based on Put-Call Parity.The negative value of -185.82 suggests that the relationship between the spot price, present value of the strike, and forward price is not in equilibrium, indicating that the forward contract is trading at a lower price than expected based on Forward Parity.**\n",
        "\n",
        "\n",
        "\n",
        "\n",
        "\n"
      ],
      "metadata": {
        "id": "KJsPNjTzjPx3"
      }
    },
    {
      "cell_type": "markdown",
      "source": [
        "#**E. Calculate the Delta and Gamma for the Put Option using Numerical Methods**"
      ],
      "metadata": {
        "id": "Slh7tsbwldjx"
      }
    },
    {
      "cell_type": "code",
      "source": [
        "# Calculate Delta and Gamma for the Put Option (numerical methods)\n",
        "delta = (black_scholes_put(strike + 1, time_to_maturity, spot, interest_rate, dividend_yield, volatility) -\n",
        "         black_scholes_put(strike - 1, time_to_maturity, spot, interest_rate, dividend_yield, volatility)) / 2\n",
        "gamma = (black_scholes_put(strike + 1, time_to_maturity, spot, interest_rate, dividend_yield, volatility) -\n",
        "         2 * black_scholes_put(strike, time_to_maturity, spot, interest_rate, dividend_yield, volatility) +\n",
        "         black_scholes_put(strike - 1, time_to_maturity, spot, interest_rate, dividend_yield, volatility))\n",
        "\n",
        "print(f\"Delta of Put Option: {delta:.2f}\")\n",
        "print(f\"Gamma of Put Option: {gamma:.2f}\")"
      ],
      "metadata": {
        "colab": {
          "base_uri": "https://localhost:8080/"
        },
        "id": "ccJx5BFiz5hR",
        "outputId": "f316788e-fb18-4b7e-cfaa-ff92ec57292c"
      },
      "execution_count": 7,
      "outputs": [
        {
          "output_type": "stream",
          "name": "stdout",
          "text": [
            "Delta of Put Option: 0.73\n",
            "Gamma of Put Option: 0.00\n"
          ]
        }
      ]
    },
    {
      "cell_type": "markdown",
      "source": [
        "**Explanation:**\n",
        "\n",
        "**Delta:**\n",
        "\n",
        "Delta measures how much the price of the option changes in response to a small change in the price of the underlying asset. In the context of a put option, it tells us how much the put option price will change if the underlying asset's price increases by a small amount.\n",
        "\n",
        "* The code calculates delta by first estimating the put option price for a slightly higher stock price (strike + 1) and a slightly lower stock price (strike - 1) using the Black-Scholes-Merton put option pricing formula.\n",
        "\n",
        "* Then, it subtracts the estimated option price for the lower stock price from the option price for the higher stock price. This difference represents the change in the option price due to a small change in the stock price.\n",
        "\n",
        "* Finally, it divides this price difference by 2 to find the average change in the option price. This average change is an estimate of the delta for the put option.\n",
        "\n",
        "**A delta of 0.73 means that for every one-point decrease in the price of the underlying asset, the put option's price is expected to decrease by approximately $0.73. This suggests that the put option is sensitive to changes in the underlying asset's price and moves in the opposite direction; as the asset's price falls, the put option's price increases. In practical terms, a put option with a delta of 0.73 is considered \"in the money\" since it has a relatively high sensitivity to changes in the underlying asset's price. This means it is likely to see significant price changes as the underlying asset's price moves.**\n",
        "\n",
        "**Gamma:**\n",
        "\n",
        "Gamma measures the rate of change of the delta. It tells us how much the delta will change in response to a small change in the underlying asset's price. In simpler terms, it indicates the curvature or the sensitivity of delta to changes in the underlying asset's price.\n",
        "\n",
        "* The code calculates gamma by estimating the put option price for a slightly higher stock price (strike + 1), the current stock price (strike), and a slightly lower stock price (strike - 1).\n",
        "\n",
        "* It then takes the weighted difference between the option price for the higher stock price and the option price for the lower stock price, giving more weight to the current stock price. This calculation represents how delta changes with small stock price changes.\n",
        "\n",
        "* In summary, the code calculates delta and gamma by estimating how the put option price and delta change in response to small variations in the underlying asset's price. These values are important for risk management and understanding how option prices respond to market movements.\n",
        "\n",
        "**The gamma value of 0.00 suggests that the delta of the put option remains constant and does not become more or less sensitive to changes in the underlying asset's price, regardless of how much the price moves.**"
      ],
      "metadata": {
        "id": "4aemrEliki7h"
      }
    },
    {
      "cell_type": "markdown",
      "source": [
        "4. **(Non-coding) If the strike of the option was $5000, would you expect the volatility to be higher or lower? Why?**\n",
        "\n",
        "* If the strike price of the option were set at $5000, you would typically anticipate that the level of volatility in the market would be higher. The reason behind this expectation is quite straightforward. When an option's strike price is significantly higher, it becomes less likely that the option will end up \"in the money\" at the time of its expiration, meaning the spot price of the underlying asset is less likely to exceed the high strike price.\n",
        "To compensate for this lower probability of exercise, option traders may demand a higher implied volatility, which results in higher option premiums.\n",
        "In summary, a higher strike price can lead to expectations of higher implied volatility as a means of addressing the reduced chance of the option being profitable. This, in turn, results in higher option premiums to account for the increased uncertainty and risk.\n"
      ],
      "metadata": {
        "id": "1WDCdDWSegcj"
      }
    },
    {
      "cell_type": "markdown",
      "source": [
        "5. **(Non-coding) Does the gamma of a forward contract depend on the current stock price? Does it depend on the strike price? Why?**\n",
        "\n",
        "* The gamma of a forward contract does not depend on the current stock price or the strike price. Gamma is related to the curvature of the option's price with respect to the underlying's price. In a forward contract, the price is linearly related to the underlying price (no convexity), so the gamma is zero.\n",
        "\n",
        "\n",
        "* In the context of a forward contract no matter how high or low gamma is it won't change the fact that the strike price will prevail."
      ],
      "metadata": {
        "id": "jOVzESpWezYy"
      }
    },
    {
      "cell_type": "markdown",
      "source": [
        "6. **(Non-coding) Consider a cash-settled call option where the underlying is a bespoke basket of 2 indexes: the United States’ S&amp;P500 and the UK’s FTSE 100. The value of the basket is defined as the sum of the 2 indexes in exactly 6 months. What market data would be required to price this instrument?**\n",
        "\n",
        "* To price a cash-settled call option with a bespoke basket of two indexes (S&P 500 and FTSE 100), the market data that we would need are the following:\n",
        "\n",
        "    * Current Values of the Underlying Indexes, current values of both the S&P 500 and the FTSE 100.\n",
        "\n",
        "    * Volatility of the Index Basket: Volatility measures how much the combined value of the S&P 500 and FTSE 100 is expected to fluctuate over time.\n",
        "\n",
        "    * Risk-Free Interest Rate: The interest rate is used to discount future cash flows to their present value.\n",
        "\n",
        "    * Option's Strike Price, the strike price is the price at which the option holder has the right to buy the index basket.\n",
        "\n",
        "    * Time to Maturity , this is the time remaining until the option's expiration.\n",
        "\n",
        "* With these data points,we can use an appropriate pricing model, such as a modified version of the Black-Scholes model for index options that accounts for the basket structure, to calculate the option's value. These models will take into account the specific terms of the option, including the sum of the two indexes as the underlying asset and any unique features of the option, such as the cash settlement provision."
      ],
      "metadata": {
        "id": "AkhvE0wz9C1Z"
      }
    },
    {
      "cell_type": "markdown",
      "source": [],
      "metadata": {
        "id": "jx-f3xrn-cea"
      }
    }
  ]
}