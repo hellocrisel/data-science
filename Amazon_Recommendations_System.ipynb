{
  "nbformat": 4,
  "nbformat_minor": 0,
  "metadata": {
    "colab": {
      "provenance": [],
      "mount_file_id": "1Se3Joz3xDnANpNKWtMTfr5jaSCMJsLBR",
      "authorship_tag": "ABX9TyMSBuKaclQIdxEA2PE/CpBp",
      "include_colab_link": true
    },
    "kernelspec": {
      "name": "python3",
      "display_name": "Python 3"
    },
    "language_info": {
      "name": "python"
    }
  },
  "cells": [
    {
      "cell_type": "markdown",
      "metadata": {
        "id": "view-in-github",
        "colab_type": "text"
      },
      "source": [
        "<a href=\"https://colab.research.google.com/github/hellocrisel/data-science/blob/main/Amazon_Recommendations_System.ipynb\" target=\"_parent\"><img src=\"https://colab.research.google.com/assets/colab-badge.svg\" alt=\"Open In Colab\"/></a>"
      ]
    },
    {
      "cell_type": "markdown",
      "source": [
        "#**Project: Amazon Product Recommendation System**\n",
        "\n",
        "Today, information is growing exponentially with volume, velocity and variety throughout the globe. This has lead to information overload, and too many choices for the consumer of any business. It represents a real dilemma for these consumers and they often turn to denial. Recommender Systems are one of the best tools that help recommending products to consumers while they are browsing online. Providing personalized recommendations which is most relevant for the user is what's most likely to keep them engaged and help business.\n",
        "\n",
        "E-commerce websites like Amazon, Walmart, Target and Etsy use different recommendation models to provide personalized suggestions to different users. These companies spend millions of dollars to come up with algorithmic techniques that can provide personalized recommendations to their users.\n",
        "\n",
        "Amazon, for example, is well-known for its accurate selection of recommendations in its online site. Amazon's recommendation system is capable of intelligently analyzing and predicting customers' shopping preferences in order to offer them a list of recommended products. Amazon's recommendation algorithm is therefore a key element in using AI to improve the personalization of its website. For example, one of the baseline recommendation models that Amazon uses is item-to-item collaborative filtering, which scales to massive data sets and produces high-quality recommendations in real-time.\n",
        "\n",
        "#**Objective**\n",
        "\n",
        "  Build a recommendation system to recommend products to customers based on their previous ratings for other products. You have a collection of labeled data of Amazon reviews of products. The goal is to extract meaningful insights from the data and build a recommendation system that helps in recommending products to online consumers.\n",
        "\n",
        "#**Dataset**\n",
        "\n",
        "The Amazon dataset contains the following attributes:\n",
        "* **userId**: Every user identified with a unique id\n",
        "* **productId**: Every product identified with a unique id\n",
        "* **Rating**: The rating of the corresponding product by the corresponding user\n",
        "* **timestamp**: Time of the rating. We will not use this column to solve the current problem\n",
        "\n",
        "\n",
        "\n",
        "##**Installation of Surprise Library and mounting Google drive on Colab**"
      ],
      "metadata": {
        "id": "2q5Q5znj9txh"
      }
    },
    {
      "cell_type": "code",
      "source": [
        "from google.colab import drive\n",
        "drive.mount('/content/drive')"
      ],
      "metadata": {
        "colab": {
          "base_uri": "https://localhost:8080/"
        },
        "id": "1mM3bT_j_at5",
        "outputId": "2a88f856-a682-4d0b-ad4a-36df220709e4"
      },
      "execution_count": 1,
      "outputs": [
        {
          "output_type": "stream",
          "name": "stdout",
          "text": [
            "Drive already mounted at /content/drive; to attempt to forcibly remount, call drive.mount(\"/content/drive\", force_remount=True).\n"
          ]
        }
      ]
    },
    {
      "cell_type": "markdown",
      "source": [
        "##**Installing surprise library**"
      ],
      "metadata": {
        "id": "W7ASbkIPAVyj"
      }
    },
    {
      "cell_type": "code",
      "source": [
        "!pip install surprise"
      ],
      "metadata": {
        "colab": {
          "base_uri": "https://localhost:8080/"
        },
        "id": "-fvCCF0VAa3P",
        "outputId": "08419d43-f20e-4e44-fec8-8164aa328fc2"
      },
      "execution_count": 2,
      "outputs": [
        {
          "output_type": "stream",
          "name": "stdout",
          "text": [
            "Collecting surprise\n",
            "  Downloading surprise-0.1-py2.py3-none-any.whl (1.8 kB)\n",
            "Collecting scikit-surprise (from surprise)\n",
            "  Downloading scikit-surprise-1.1.3.tar.gz (771 kB)\n",
            "\u001b[2K     \u001b[90m━━━━━━━━━━━━━━━━━━━━━━━━━━━━━━━━━━━━━━━\u001b[0m \u001b[32m772.0/772.0 kB\u001b[0m \u001b[31m9.4 MB/s\u001b[0m eta \u001b[36m0:00:00\u001b[0m\n",
            "\u001b[?25h  Preparing metadata (setup.py) ... \u001b[?25l\u001b[?25hdone\n",
            "Requirement already satisfied: joblib>=1.0.0 in /usr/local/lib/python3.10/dist-packages (from scikit-surprise->surprise) (1.3.2)\n",
            "Requirement already satisfied: numpy>=1.17.3 in /usr/local/lib/python3.10/dist-packages (from scikit-surprise->surprise) (1.23.5)\n",
            "Requirement already satisfied: scipy>=1.3.2 in /usr/local/lib/python3.10/dist-packages (from scikit-surprise->surprise) (1.11.2)\n",
            "Building wheels for collected packages: scikit-surprise\n",
            "  Building wheel for scikit-surprise (setup.py) ... \u001b[?25l\u001b[?25hdone\n",
            "  Created wheel for scikit-surprise: filename=scikit_surprise-1.1.3-cp310-cp310-linux_x86_64.whl size=3156220 sha256=9e2242003d9b530393e6edc3ef9da73a1b66b532ef90c22d972c31d312330206\n",
            "  Stored in directory: /root/.cache/pip/wheels/a5/ca/a8/4e28def53797fdc4363ca4af740db15a9c2f1595ebc51fb445\n",
            "Successfully built scikit-surprise\n",
            "Installing collected packages: scikit-surprise, surprise\n",
            "Successfully installed scikit-surprise-1.1.3 surprise-0.1\n"
          ]
        }
      ]
    },
    {
      "cell_type": "markdown",
      "source": [
        "##**Importing the necessary libraries and overview of the dataset**"
      ],
      "metadata": {
        "id": "ezWomtoHAfRl"
      }
    },
    {
      "cell_type": "code",
      "source": [
        "import warnings\n",
        "\n",
        "import numpy as np\n",
        "import pandas as pd\n",
        "\n",
        "import matplotlib.pyplot as plt\n",
        "import seaborn as sns\n",
        "\n",
        "from collections import defaultdict\n",
        "\n",
        "from sklearn.metrics import mean_squared_error"
      ],
      "metadata": {
        "id": "dVT5viSTAofm"
      },
      "execution_count": 3,
      "outputs": []
    },
    {
      "cell_type": "markdown",
      "source": [
        "##**Loading the data**"
      ],
      "metadata": {
        "id": "MXyHPeCIA5kN"
      }
    },
    {
      "cell_type": "code",
      "source": [
        "# Import the dataset\n",
        "df = pd.read_csv('/content/drive/MyDrive/Saldivar_MIT Data Science /ratings_Electronics.csv', header = None) # There are no headers in the data file\n",
        "\n",
        "df.columns = ['user_id', 'prod_id', 'rating', 'timestamp'] # Adding column names\n",
        "\n",
        "df = df.drop('timestamp', axis = 1) # Dropping timestamp\n",
        "\n",
        "df_copy = df.copy(deep = True) # Copying the data to another DataFrame"
      ],
      "metadata": {
        "id": "QcSGNB1PBB_z"
      },
      "execution_count": 4,
      "outputs": []
    },
    {
      "cell_type": "markdown",
      "source": [
        "**As this dataset is very large and has 7,824,482 observations, it is not computationally possible to build a model using this. Moreover, many users have only rated a few products and also some products are rated by very few users. Hence, we can reduce the dataset by considering certain logical assumptions.**\n",
        "\n",
        "Here, we will be taking users who have given at least 50 ratings, and the products that have at least 5 ratings, as when we shop online we prefer to have some number of ratings of a product."
      ],
      "metadata": {
        "id": "Tc3Kw8FWBVzf"
      }
    },
    {
      "cell_type": "code",
      "source": [
        "# Get the column containing the users\n",
        "users = df.user_id\n",
        "\n",
        "# Create a dictionary from users to their number of ratings\n",
        "ratings_count = dict()\n",
        "\n",
        "for user in users:\n",
        "\n",
        "    # If we already have the user, just add 1 to their rating count\n",
        "    if user in ratings_count:\n",
        "        ratings_count[user] += 1\n",
        "\n",
        "    # Otherwise, set their rating count to 1\n",
        "    else:\n",
        "        ratings_count[user] = 1"
      ],
      "metadata": {
        "id": "FVy9HKHkBcwI"
      },
      "execution_count": 5,
      "outputs": []
    },
    {
      "cell_type": "code",
      "source": [
        "# We want our users to have at least 50 ratings to be considered\n",
        "RATINGS_CUTOFF = 50\n",
        "\n",
        "remove_users = []\n",
        "\n",
        "for user, num_ratings in ratings_count.items():\n",
        "    if num_ratings < RATINGS_CUTOFF:\n",
        "        remove_users.append(user)\n",
        "\n",
        "df = df.loc[ ~ df.user_id.isin(remove_users)]"
      ],
      "metadata": {
        "id": "PwiiQLlpBlsQ"
      },
      "execution_count": 6,
      "outputs": []
    },
    {
      "cell_type": "code",
      "source": [
        "# Get the column containing the products\n",
        "prods = df.prod_id\n",
        "\n",
        "# Create a dictionary from products to their number of ratings\n",
        "ratings_count = dict()\n",
        "\n",
        "for prod in prods:\n",
        "\n",
        "    # If we already have the product, just add 1 to its rating count\n",
        "    if prod in ratings_count:\n",
        "        ratings_count[prod] += 1\n",
        "\n",
        "    # Otherwise, set their rating count to 1\n",
        "    else:\n",
        "        ratings_count[prod] = 1"
      ],
      "metadata": {
        "id": "qo1nCjpyBpuf"
      },
      "execution_count": 7,
      "outputs": []
    },
    {
      "cell_type": "code",
      "source": [
        "# We want our item to have at least 5 ratings to be considered\n",
        "RATINGS_CUTOFF = 5\n",
        "\n",
        "remove_users = []\n",
        "\n",
        "for user, num_ratings in ratings_count.items():\n",
        "    if num_ratings < RATINGS_CUTOFF:\n",
        "        remove_users.append(user)\n",
        "\n",
        "df_final = df.loc[~ df.prod_id.isin(remove_users)]"
      ],
      "metadata": {
        "id": "mOZ1ZkA8BtSM"
      },
      "execution_count": 8,
      "outputs": []
    },
    {
      "cell_type": "code",
      "source": [
        "# Check the head of the dataset\n",
        "df_final.head()"
      ],
      "metadata": {
        "colab": {
          "base_uri": "https://localhost:8080/",
          "height": 206
        },
        "id": "ZQtHTGujB7Mw",
        "outputId": "f6f185ad-f705-44f2-d6d6-f0af34e31d18"
      },
      "execution_count": 9,
      "outputs": [
        {
          "output_type": "execute_result",
          "data": {
            "text/plain": [
              "             user_id     prod_id  rating\n",
              "1310  A3LDPF5FMB782Z  1400501466     5.0\n",
              "1322  A1A5KUIIIHFF4U  1400501466     1.0\n",
              "1335  A2XIOXRRYX0KZY  1400501466     3.0\n",
              "1451   AW3LX47IHPFRL  1400501466     5.0\n",
              "1456  A1E3OB6QMBKRYZ  1400501466     1.0"
            ],
            "text/html": [
              "\n",
              "  <div id=\"df-0c81cf8c-fe73-46b9-9c31-c1333996ed3c\" class=\"colab-df-container\">\n",
              "    <div>\n",
              "<style scoped>\n",
              "    .dataframe tbody tr th:only-of-type {\n",
              "        vertical-align: middle;\n",
              "    }\n",
              "\n",
              "    .dataframe tbody tr th {\n",
              "        vertical-align: top;\n",
              "    }\n",
              "\n",
              "    .dataframe thead th {\n",
              "        text-align: right;\n",
              "    }\n",
              "</style>\n",
              "<table border=\"1\" class=\"dataframe\">\n",
              "  <thead>\n",
              "    <tr style=\"text-align: right;\">\n",
              "      <th></th>\n",
              "      <th>user_id</th>\n",
              "      <th>prod_id</th>\n",
              "      <th>rating</th>\n",
              "    </tr>\n",
              "  </thead>\n",
              "  <tbody>\n",
              "    <tr>\n",
              "      <th>1310</th>\n",
              "      <td>A3LDPF5FMB782Z</td>\n",
              "      <td>1400501466</td>\n",
              "      <td>5.0</td>\n",
              "    </tr>\n",
              "    <tr>\n",
              "      <th>1322</th>\n",
              "      <td>A1A5KUIIIHFF4U</td>\n",
              "      <td>1400501466</td>\n",
              "      <td>1.0</td>\n",
              "    </tr>\n",
              "    <tr>\n",
              "      <th>1335</th>\n",
              "      <td>A2XIOXRRYX0KZY</td>\n",
              "      <td>1400501466</td>\n",
              "      <td>3.0</td>\n",
              "    </tr>\n",
              "    <tr>\n",
              "      <th>1451</th>\n",
              "      <td>AW3LX47IHPFRL</td>\n",
              "      <td>1400501466</td>\n",
              "      <td>5.0</td>\n",
              "    </tr>\n",
              "    <tr>\n",
              "      <th>1456</th>\n",
              "      <td>A1E3OB6QMBKRYZ</td>\n",
              "      <td>1400501466</td>\n",
              "      <td>1.0</td>\n",
              "    </tr>\n",
              "  </tbody>\n",
              "</table>\n",
              "</div>\n",
              "    <div class=\"colab-df-buttons\">\n",
              "\n",
              "  <div class=\"colab-df-container\">\n",
              "    <button class=\"colab-df-convert\" onclick=\"convertToInteractive('df-0c81cf8c-fe73-46b9-9c31-c1333996ed3c')\"\n",
              "            title=\"Convert this dataframe to an interactive table.\"\n",
              "            style=\"display:none;\">\n",
              "\n",
              "  <svg xmlns=\"http://www.w3.org/2000/svg\" height=\"24px\" viewBox=\"0 -960 960 960\">\n",
              "    <path d=\"M120-120v-720h720v720H120Zm60-500h600v-160H180v160Zm220 220h160v-160H400v160Zm0 220h160v-160H400v160ZM180-400h160v-160H180v160Zm440 0h160v-160H620v160ZM180-180h160v-160H180v160Zm440 0h160v-160H620v160Z\"/>\n",
              "  </svg>\n",
              "    </button>\n",
              "\n",
              "  <style>\n",
              "    .colab-df-container {\n",
              "      display:flex;\n",
              "      gap: 12px;\n",
              "    }\n",
              "\n",
              "    .colab-df-convert {\n",
              "      background-color: #E8F0FE;\n",
              "      border: none;\n",
              "      border-radius: 50%;\n",
              "      cursor: pointer;\n",
              "      display: none;\n",
              "      fill: #1967D2;\n",
              "      height: 32px;\n",
              "      padding: 0 0 0 0;\n",
              "      width: 32px;\n",
              "    }\n",
              "\n",
              "    .colab-df-convert:hover {\n",
              "      background-color: #E2EBFA;\n",
              "      box-shadow: 0px 1px 2px rgba(60, 64, 67, 0.3), 0px 1px 3px 1px rgba(60, 64, 67, 0.15);\n",
              "      fill: #174EA6;\n",
              "    }\n",
              "\n",
              "    .colab-df-buttons div {\n",
              "      margin-bottom: 4px;\n",
              "    }\n",
              "\n",
              "    [theme=dark] .colab-df-convert {\n",
              "      background-color: #3B4455;\n",
              "      fill: #D2E3FC;\n",
              "    }\n",
              "\n",
              "    [theme=dark] .colab-df-convert:hover {\n",
              "      background-color: #434B5C;\n",
              "      box-shadow: 0px 1px 3px 1px rgba(0, 0, 0, 0.15);\n",
              "      filter: drop-shadow(0px 1px 2px rgba(0, 0, 0, 0.3));\n",
              "      fill: #FFFFFF;\n",
              "    }\n",
              "  </style>\n",
              "\n",
              "    <script>\n",
              "      const buttonEl =\n",
              "        document.querySelector('#df-0c81cf8c-fe73-46b9-9c31-c1333996ed3c button.colab-df-convert');\n",
              "      buttonEl.style.display =\n",
              "        google.colab.kernel.accessAllowed ? 'block' : 'none';\n",
              "\n",
              "      async function convertToInteractive(key) {\n",
              "        const element = document.querySelector('#df-0c81cf8c-fe73-46b9-9c31-c1333996ed3c');\n",
              "        const dataTable =\n",
              "          await google.colab.kernel.invokeFunction('convertToInteractive',\n",
              "                                                    [key], {});\n",
              "        if (!dataTable) return;\n",
              "\n",
              "        const docLinkHtml = 'Like what you see? Visit the ' +\n",
              "          '<a target=\"_blank\" href=https://colab.research.google.com/notebooks/data_table.ipynb>data table notebook</a>'\n",
              "          + ' to learn more about interactive tables.';\n",
              "        element.innerHTML = '';\n",
              "        dataTable['output_type'] = 'display_data';\n",
              "        await google.colab.output.renderOutput(dataTable, element);\n",
              "        const docLink = document.createElement('div');\n",
              "        docLink.innerHTML = docLinkHtml;\n",
              "        element.appendChild(docLink);\n",
              "      }\n",
              "    </script>\n",
              "  </div>\n",
              "\n",
              "\n",
              "<div id=\"df-3ab14014-5494-46fd-bed0-39e8ed2ae380\">\n",
              "  <button class=\"colab-df-quickchart\" onclick=\"quickchart('df-3ab14014-5494-46fd-bed0-39e8ed2ae380')\"\n",
              "            title=\"Suggest charts.\"\n",
              "            style=\"display:none;\">\n",
              "\n",
              "<svg xmlns=\"http://www.w3.org/2000/svg\" height=\"24px\"viewBox=\"0 0 24 24\"\n",
              "     width=\"24px\">\n",
              "    <g>\n",
              "        <path d=\"M19 3H5c-1.1 0-2 .9-2 2v14c0 1.1.9 2 2 2h14c1.1 0 2-.9 2-2V5c0-1.1-.9-2-2-2zM9 17H7v-7h2v7zm4 0h-2V7h2v10zm4 0h-2v-4h2v4z\"/>\n",
              "    </g>\n",
              "</svg>\n",
              "  </button>\n",
              "\n",
              "<style>\n",
              "  .colab-df-quickchart {\n",
              "      --bg-color: #E8F0FE;\n",
              "      --fill-color: #1967D2;\n",
              "      --hover-bg-color: #E2EBFA;\n",
              "      --hover-fill-color: #174EA6;\n",
              "      --disabled-fill-color: #AAA;\n",
              "      --disabled-bg-color: #DDD;\n",
              "  }\n",
              "\n",
              "  [theme=dark] .colab-df-quickchart {\n",
              "      --bg-color: #3B4455;\n",
              "      --fill-color: #D2E3FC;\n",
              "      --hover-bg-color: #434B5C;\n",
              "      --hover-fill-color: #FFFFFF;\n",
              "      --disabled-bg-color: #3B4455;\n",
              "      --disabled-fill-color: #666;\n",
              "  }\n",
              "\n",
              "  .colab-df-quickchart {\n",
              "    background-color: var(--bg-color);\n",
              "    border: none;\n",
              "    border-radius: 50%;\n",
              "    cursor: pointer;\n",
              "    display: none;\n",
              "    fill: var(--fill-color);\n",
              "    height: 32px;\n",
              "    padding: 0;\n",
              "    width: 32px;\n",
              "  }\n",
              "\n",
              "  .colab-df-quickchart:hover {\n",
              "    background-color: var(--hover-bg-color);\n",
              "    box-shadow: 0 1px 2px rgba(60, 64, 67, 0.3), 0 1px 3px 1px rgba(60, 64, 67, 0.15);\n",
              "    fill: var(--button-hover-fill-color);\n",
              "  }\n",
              "\n",
              "  .colab-df-quickchart-complete:disabled,\n",
              "  .colab-df-quickchart-complete:disabled:hover {\n",
              "    background-color: var(--disabled-bg-color);\n",
              "    fill: var(--disabled-fill-color);\n",
              "    box-shadow: none;\n",
              "  }\n",
              "\n",
              "  .colab-df-spinner {\n",
              "    border: 2px solid var(--fill-color);\n",
              "    border-color: transparent;\n",
              "    border-bottom-color: var(--fill-color);\n",
              "    animation:\n",
              "      spin 1s steps(1) infinite;\n",
              "  }\n",
              "\n",
              "  @keyframes spin {\n",
              "    0% {\n",
              "      border-color: transparent;\n",
              "      border-bottom-color: var(--fill-color);\n",
              "      border-left-color: var(--fill-color);\n",
              "    }\n",
              "    20% {\n",
              "      border-color: transparent;\n",
              "      border-left-color: var(--fill-color);\n",
              "      border-top-color: var(--fill-color);\n",
              "    }\n",
              "    30% {\n",
              "      border-color: transparent;\n",
              "      border-left-color: var(--fill-color);\n",
              "      border-top-color: var(--fill-color);\n",
              "      border-right-color: var(--fill-color);\n",
              "    }\n",
              "    40% {\n",
              "      border-color: transparent;\n",
              "      border-right-color: var(--fill-color);\n",
              "      border-top-color: var(--fill-color);\n",
              "    }\n",
              "    60% {\n",
              "      border-color: transparent;\n",
              "      border-right-color: var(--fill-color);\n",
              "    }\n",
              "    80% {\n",
              "      border-color: transparent;\n",
              "      border-right-color: var(--fill-color);\n",
              "      border-bottom-color: var(--fill-color);\n",
              "    }\n",
              "    90% {\n",
              "      border-color: transparent;\n",
              "      border-bottom-color: var(--fill-color);\n",
              "    }\n",
              "  }\n",
              "</style>\n",
              "\n",
              "  <script>\n",
              "    async function quickchart(key) {\n",
              "      const quickchartButtonEl =\n",
              "        document.querySelector('#' + key + ' button');\n",
              "      quickchartButtonEl.disabled = true;  // To prevent multiple clicks.\n",
              "      quickchartButtonEl.classList.add('colab-df-spinner');\n",
              "      try {\n",
              "        const charts = await google.colab.kernel.invokeFunction(\n",
              "            'suggestCharts', [key], {});\n",
              "      } catch (error) {\n",
              "        console.error('Error during call to suggestCharts:', error);\n",
              "      }\n",
              "      quickchartButtonEl.classList.remove('colab-df-spinner');\n",
              "      quickchartButtonEl.classList.add('colab-df-quickchart-complete');\n",
              "    }\n",
              "    (() => {\n",
              "      let quickchartButtonEl =\n",
              "        document.querySelector('#df-3ab14014-5494-46fd-bed0-39e8ed2ae380 button');\n",
              "      quickchartButtonEl.style.display =\n",
              "        google.colab.kernel.accessAllowed ? 'block' : 'none';\n",
              "    })();\n",
              "  </script>\n",
              "</div>\n",
              "    </div>\n",
              "  </div>\n"
            ]
          },
          "metadata": {},
          "execution_count": 9
        }
      ]
    },
    {
      "cell_type": "markdown",
      "source": [
        "##**Exploratory Data Analysis**\n",
        "###**Shape of the data**\n",
        "###**Check the number of rows and columns and provide observations**\n"
      ],
      "metadata": {
        "id": "ddBy40ERCilR"
      }
    },
    {
      "cell_type": "code",
      "source": [
        "# Check the number of rows and columns and provide observations\n",
        "rows, columns = df_final.shape\n",
        "print(\"No of rows: \", rows)\n",
        "print(\"No of columns: \", columns)"
      ],
      "metadata": {
        "colab": {
          "base_uri": "https://localhost:8080/"
        },
        "id": "8p8LD-hKC5Pn",
        "outputId": "ca056182-7307-48b8-dda5-606efaaffc49"
      },
      "execution_count": 10,
      "outputs": [
        {
          "output_type": "stream",
          "name": "stdout",
          "text": [
            "No of rows:  65290\n",
            "No of columns:  3\n"
          ]
        }
      ]
    },
    {
      "cell_type": "markdown",
      "source": [
        "**Observations:**\n",
        "\n",
        "The dataset has 65290 rows and 3 columns.\n",
        "\n",
        "**Check the data types of the columns in the dataset**"
      ],
      "metadata": {
        "id": "9Jd4BG5RORLq"
      }
    },
    {
      "cell_type": "code",
      "source": [
        "# Check Data types\n",
        "df_final.info()"
      ],
      "metadata": {
        "colab": {
          "base_uri": "https://localhost:8080/"
        },
        "id": "30-NOx25ObTf",
        "outputId": "9f54db3c-c4ce-4a38-bae2-a7c0fa358f59"
      },
      "execution_count": 11,
      "outputs": [
        {
          "output_type": "stream",
          "name": "stdout",
          "text": [
            "<class 'pandas.core.frame.DataFrame'>\n",
            "Int64Index: 65290 entries, 1310 to 7824427\n",
            "Data columns (total 3 columns):\n",
            " #   Column   Non-Null Count  Dtype  \n",
            "---  ------   --------------  -----  \n",
            " 0   user_id  65290 non-null  object \n",
            " 1   prod_id  65290 non-null  object \n",
            " 2   rating   65290 non-null  float64\n",
            "dtypes: float64(1), object(2)\n",
            "memory usage: 2.0+ MB\n"
          ]
        }
      ]
    },
    {
      "cell_type": "markdown",
      "source": [
        "**Observations:**\n",
        "\n",
        "There are 65290 rows and 3 columns in the data.\n",
        "user_id, and prod_id are of the object type and rating is a float.\n",
        "\n",
        "\n",
        "###**Checking for Missing Values**"
      ],
      "metadata": {
        "id": "si8UCnt4PO5g"
      }
    },
    {
      "cell_type": "code",
      "source": [
        "# Check for missing values present and provide observations\n",
        "df_final.isnull().sum()"
      ],
      "metadata": {
        "colab": {
          "base_uri": "https://localhost:8080/"
        },
        "id": "LPyJSgmOP1Hb",
        "outputId": "c819d551-7dd8-4b5f-d302-78df4dabb3a1"
      },
      "execution_count": 13,
      "outputs": [
        {
          "output_type": "execute_result",
          "data": {
            "text/plain": [
              "user_id    0\n",
              "prod_id    0\n",
              "rating     0\n",
              "dtype: int64"
            ]
          },
          "metadata": {},
          "execution_count": 13
        }
      ]
    },
    {
      "cell_type": "markdown",
      "source": [
        "**Observations:**\n",
        "\n",
        "There are no null/missing values present in the dataset."
      ],
      "metadata": {
        "id": "46jScTQRQUCc"
      }
    },
    {
      "cell_type": "markdown",
      "source": [
        "###**Summary Statistics**"
      ],
      "metadata": {
        "id": "alNCMsD6Ql0N"
      }
    },
    {
      "cell_type": "code",
      "source": [
        "# Summary statistics of 'rating' variable and provide observations\n",
        "df_final.describe()['rating'].T"
      ],
      "metadata": {
        "colab": {
          "base_uri": "https://localhost:8080/"
        },
        "id": "DPw8gPsmQjuc",
        "outputId": "242a55de-488f-41bc-ec4a-e85e20a060f4"
      },
      "execution_count": 18,
      "outputs": [
        {
          "output_type": "execute_result",
          "data": {
            "text/plain": [
              "count    65290.000000\n",
              "mean         4.294808\n",
              "std          0.988915\n",
              "min          1.000000\n",
              "25%          4.000000\n",
              "50%          5.000000\n",
              "75%          5.000000\n",
              "max          5.000000\n",
              "Name: rating, dtype: float64"
            ]
          },
          "metadata": {},
          "execution_count": 18
        }
      ]
    },
    {
      "cell_type": "markdown",
      "source": [
        "**Observations**\n",
        "\n",
        "In summary, the dataset contains a large number of ratings, with an overall high average rating of approximately 4.295. However, there is some variability in the ratings, as indicated by the standard deviation. The ratings are concentrated towards the higher end of the scale, with the majority of products receiving ratings of 5. There are also some products with lower ratings, as evidenced by the minimum rating of 1."
      ],
      "metadata": {
        "id": "M9Uh4_qORyPB"
      }
    },
    {
      "cell_type": "markdown",
      "source": [
        "###**Checking the rating distribution**"
      ],
      "metadata": {
        "id": "nJJ4bJ3VSByC"
      }
    },
    {
      "cell_type": "code",
      "source": [
        "# Create the bar plot and provide observations\n",
        "plt.figure(figsize=(12, 6))\n",
        "df_final['rating'].value_counts(normalize=True).plot(kind='bar')\n",
        "plt.xlabel('Rating')\n",
        "plt.ylabel('COunt')\n",
        "\n",
        "plt.show()"
      ],
      "metadata": {
        "colab": {
          "base_uri": "https://localhost:8080/",
          "height": 550
        },
        "id": "1Wt7R2QaSLiL",
        "outputId": "aa4d97c7-6d96-4015-fe4d-77963ef467fc"
      },
      "execution_count": 38,
      "outputs": [
        {
          "output_type": "display_data",
          "data": {
            "text/plain": [
              "<Figure size 1200x600 with 1 Axes>"
            ],
            "image/png": "[encoded data removed]"
          },
          "metadata": {}
        }
      ]
    },
    {
      "cell_type": "markdown",
      "source": [
        "**Observations:**\n",
        "\n",
        "The data seems to be highly skewed towards Rating '4' and '5'. Rating '5' is the highest in the count.\n",
        "\n",
        "We can see very few people are giving ratings between 1 to 2. Most of the people has given the rating of 5."
      ],
      "metadata": {
        "id": "WXyfhSdrT0yJ"
      }
    },
    {
      "cell_type": "markdown",
      "source": [
        "###**Checking the number of unique users and items in the dataset**"
      ],
      "metadata": {
        "id": "IhQKpPIGT9AI"
      }
    },
    {
      "cell_type": "code",
      "source": [
        "# Number of total rows in the data and number of unique user id and product id in the data\n",
        "\n",
        "\n",
        "#Total users in the data\n",
        "print('Total number of users in the data : ',df_final['user_id'].value_counts().sum())\n",
        "\n",
        "#Total Products in the data\n",
        "print('Total number of Products in the data : ',df_final['prod_id'].value_counts().sum())\n",
        "\n",
        "# Number of unique user id  in the data\n",
        "print('Number of unique users in Raw data = ', df_final['user_id'].nunique())\n",
        "# Number of unique product id  in the data\n",
        "print('Number of unique product in Raw data = ', df_final['prod_id'].nunique())"
      ],
      "metadata": {
        "colab": {
          "base_uri": "https://localhost:8080/"
        },
        "id": "nHdz4Gy0UIfq",
        "outputId": "fb289a82-7e92-4810-965a-deef0c4feb82"
      },
      "execution_count": 39,
      "outputs": [
        {
          "output_type": "stream",
          "name": "stdout",
          "text": [
            "Total number of users in the data :  65290\n",
            "Total number of Products in the data :  65290\n",
            "Number of unique users in Raw data =  1540\n",
            "Number of unique product in Raw data =  5689\n"
          ]
        }
      ]
    },
    {
      "cell_type": "code",
      "source": [
        "# Number of unique users\n",
        "df_final['user_id'].nunique()"
      ],
      "metadata": {
        "colab": {
          "base_uri": "https://localhost:8080/"
        },
        "id": "DQfOFoXIaZh7",
        "outputId": "3092147d-fe0f-4009-b58f-06041da3806d"
      },
      "execution_count": 33,
      "outputs": [
        {
          "output_type": "execute_result",
          "data": {
            "text/plain": [
              "1540"
            ]
          },
          "metadata": {},
          "execution_count": 33
        }
      ]
    },
    {
      "cell_type": "code",
      "source": [
        "# Number of unique items\n",
        "df_final['prod_id'].nunique()"
      ],
      "metadata": {
        "colab": {
          "base_uri": "https://localhost:8080/"
        },
        "id": "lf5kgy7Jai-_",
        "outputId": "da522aff-7886-4a2b-a4ef-1fb3f6feb01b"
      },
      "execution_count": 34,
      "outputs": [
        {
          "output_type": "execute_result",
          "data": {
            "text/plain": [
              "5689"
            ]
          },
          "metadata": {},
          "execution_count": 34
        }
      ]
    },
    {
      "cell_type": "markdown",
      "source": [
        "**Observations:**\n",
        "\n",
        "There are **1540 unique users** in the dataset.\n",
        "There are **5689 unique items** in the dataset.\n"
      ],
      "metadata": {
        "id": "lz_LCe6mV_Xc"
      }
    },
    {
      "cell_type": "markdown",
      "source": [
        "##**Users with the most number of ratings**"
      ],
      "metadata": {
        "id": "w_SfYt-ZWkXE"
      }
    },
    {
      "cell_type": "code",
      "source": [
        "# Top 10 users based on the number of ratings\n",
        "most_rated = df_final.groupby('user_id').size().sort_values(ascending = False)[:10]\n",
        "most_rated"
      ],
      "metadata": {
        "colab": {
          "base_uri": "https://localhost:8080/"
        },
        "id": "tFSVGRZPVXG7",
        "outputId": "c3e2262e-23ce-4a0e-e455-3e4fd7b9a459"
      },
      "execution_count": 30,
      "outputs": [
        {
          "output_type": "execute_result",
          "data": {
            "text/plain": [
              "user_id\n",
              "ADLVFFE4VBT8      295\n",
              "A3OXHLG6DIBRW8    230\n",
              "A1ODOGXEYECQQ8    217\n",
              "A36K2N527TXXJN    212\n",
              "A25C2M3QF9G7OQ    203\n",
              "A680RUE1FDO8B     196\n",
              "A22CW0ZHY3NJH8    193\n",
              "A1UQBFCERIP7VJ    193\n",
              "AWPODHOB4GFWL     184\n",
              "A3LGT6UZL99IW1    179\n",
              "dtype: int64"
            ]
          },
          "metadata": {},
          "execution_count": 30
        }
      ]
    },
    {
      "cell_type": "markdown",
      "source": [
        "**Observations**\n",
        "\n",
        "The highest number of ratings by a user **ADLVFFE4VBT8 is 295** which is far from the actual number of products present in the data. We can build a recommendation system to recommend products to users which they have not interacted with.\n",
        "\n",
        "**Now that we have explored and prepared the data, let's build the first recommendation system.**\n",
        "\n"
      ],
      "metadata": {
        "id": "5m027GEGW90h"
      }
    },
    {
      "cell_type": "markdown",
      "source": [
        "###**Model 1: Rank Based Recommendation System**"
      ],
      "metadata": {
        "id": "7Np69qYjXGDI"
      }
    },
    {
      "cell_type": "code",
      "source": [
        "# Calculate the average rating for each product\n",
        "\n",
        "df_final.groupby('prod_id')['rating'].mean()"
      ],
      "metadata": {
        "colab": {
          "base_uri": "https://localhost:8080/"
        },
        "id": "ulgSVPAgfr28",
        "outputId": "1bf757b0-e9dc-4896-de56-5c6b255fd271"
      },
      "execution_count": 41,
      "outputs": [
        {
          "output_type": "execute_result",
          "data": {
            "text/plain": [
              "prod_id\n",
              "1400501466    3.333333\n",
              "1400532655    3.833333\n",
              "1400599997    4.000000\n",
              "9983891212    4.875000\n",
              "B00000DM9W    5.000000\n",
              "                ...   \n",
              "B00L21HC7A    4.625000\n",
              "B00L2442H0    4.916667\n",
              "B00L26YDA4    4.384615\n",
              "B00L3YHF6O    5.000000\n",
              "B00LGQ6HL8    5.000000\n",
              "Name: rating, Length: 5689, dtype: float64"
            ]
          },
          "metadata": {},
          "execution_count": 41
        }
      ]
    },
    {
      "cell_type": "code",
      "source": [
        "# Calculate the count of ratings for each product\n",
        "\n",
        "df_final.groupby('prod_id')['rating'].count().sort_values(ascending = False)"
      ],
      "metadata": {
        "colab": {
          "base_uri": "https://localhost:8080/"
        },
        "id": "jDfysZcHf3Z5",
        "outputId": "173f88a5-ef02-4b3e-e9c3-5284b820edd3"
      },
      "execution_count": 43,
      "outputs": [
        {
          "output_type": "execute_result",
          "data": {
            "text/plain": [
              "prod_id\n",
              "B0088CJT4U    206\n",
              "B003ES5ZUU    184\n",
              "B000N99BBC    167\n",
              "B007WTAJTO    164\n",
              "B00829TIEK    149\n",
              "             ... \n",
              "B00368CDH6      5\n",
              "B0036AZA6A      5\n",
              "B0036E8V08      5\n",
              "B0036QL1JY      5\n",
              "B00LGQ6HL8      5\n",
              "Name: rating, Length: 5689, dtype: int64"
            ]
          },
          "metadata": {},
          "execution_count": 43
        }
      ]
    },
    {
      "cell_type": "code",
      "source": [
        "# Create a dataframe with calculated average and count of ratings\n",
        "final_rating_df = pd.DataFrame()\n",
        "final_rating_df['avg_rating'] = pd.DataFrame(df_final.groupby('prod_id')['rating'].mean())\n",
        "\n",
        "#Adding rating_counts to the new df i.e. final_rating_df\n",
        "final_rating_df['rating_counts'] = pd.DataFrame(df_final.groupby('prod_id')['rating'].count().sort_values(ascending = False))\n",
        "\n",
        "# See the first five records of the \"final_rating\" dataset\n",
        "final_rating_df.head()"
      ],
      "metadata": {
        "colab": {
          "base_uri": "https://localhost:8080/",
          "height": 238
        },
        "id": "8w53BID-f_DN",
        "outputId": "66d2b4be-5fc6-4200-8482-e624b8ce90f3"
      },
      "execution_count": 47,
      "outputs": [
        {
          "output_type": "execute_result",
          "data": {
            "text/plain": [
              "            avg_rating  rating_counts\n",
              "prod_id                              \n",
              "1400501466    3.333333              6\n",
              "1400532655    3.833333              6\n",
              "1400599997    4.000000              5\n",
              "9983891212    4.875000              8\n",
              "B00000DM9W    5.000000              5"
            ],
            "text/html": [
              "\n",
              "  <div id=\"df-26bb5d8e-bae9-403d-a439-42d6e26a333f\" class=\"colab-df-container\">\n",
              "    <div>\n",
              "<style scoped>\n",
              "    .dataframe tbody tr th:only-of-type {\n",
              "        vertical-align: middle;\n",
              "    }\n",
              "\n",
              "    .dataframe tbody tr th {\n",
              "        vertical-align: top;\n",
              "    }\n",
              "\n",
              "    .dataframe thead th {\n",
              "        text-align: right;\n",
              "    }\n",
              "</style>\n",
              "<table border=\"1\" class=\"dataframe\">\n",
              "  <thead>\n",
              "    <tr style=\"text-align: right;\">\n",
              "      <th></th>\n",
              "      <th>avg_rating</th>\n",
              "      <th>rating_counts</th>\n",
              "    </tr>\n",
              "    <tr>\n",
              "      <th>prod_id</th>\n",
              "      <th></th>\n",
              "      <th></th>\n",
              "    </tr>\n",
              "  </thead>\n",
              "  <tbody>\n",
              "    <tr>\n",
              "      <th>1400501466</th>\n",
              "      <td>3.333333</td>\n",
              "      <td>6</td>\n",
              "    </tr>\n",
              "    <tr>\n",
              "      <th>1400532655</th>\n",
              "      <td>3.833333</td>\n",
              "      <td>6</td>\n",
              "    </tr>\n",
              "    <tr>\n",
              "      <th>1400599997</th>\n",
              "      <td>4.000000</td>\n",
              "      <td>5</td>\n",
              "    </tr>\n",
              "    <tr>\n",
              "      <th>9983891212</th>\n",
              "      <td>4.875000</td>\n",
              "      <td>8</td>\n",
              "    </tr>\n",
              "    <tr>\n",
              "      <th>B00000DM9W</th>\n",
              "      <td>5.000000</td>\n",
              "      <td>5</td>\n",
              "    </tr>\n",
              "  </tbody>\n",
              "</table>\n",
              "</div>\n",
              "    <div class=\"colab-df-buttons\">\n",
              "\n",
              "  <div class=\"colab-df-container\">\n",
              "    <button class=\"colab-df-convert\" onclick=\"convertToInteractive('df-26bb5d8e-bae9-403d-a439-42d6e26a333f')\"\n",
              "            title=\"Convert this dataframe to an interactive table.\"\n",
              "            style=\"display:none;\">\n",
              "\n",
              "  <svg xmlns=\"http://www.w3.org/2000/svg\" height=\"24px\" viewBox=\"0 -960 960 960\">\n",
              "    <path d=\"M120-120v-720h720v720H120Zm60-500h600v-160H180v160Zm220 220h160v-160H400v160Zm0 220h160v-160H400v160ZM180-400h160v-160H180v160Zm440 0h160v-160H620v160ZM180-180h160v-160H180v160Zm440 0h160v-160H620v160Z\"/>\n",
              "  </svg>\n",
              "    </button>\n",
              "\n",
              "  <style>\n",
              "    .colab-df-container {\n",
              "      display:flex;\n",
              "      gap: 12px;\n",
              "    }\n",
              "\n",
              "    .colab-df-convert {\n",
              "      background-color: #E8F0FE;\n",
              "      border: none;\n",
              "      border-radius: 50%;\n",
              "      cursor: pointer;\n",
              "      display: none;\n",
              "      fill: #1967D2;\n",
              "      height: 32px;\n",
              "      padding: 0 0 0 0;\n",
              "      width: 32px;\n",
              "    }\n",
              "\n",
              "    .colab-df-convert:hover {\n",
              "      background-color: #E2EBFA;\n",
              "      box-shadow: 0px 1px 2px rgba(60, 64, 67, 0.3), 0px 1px 3px 1px rgba(60, 64, 67, 0.15);\n",
              "      fill: #174EA6;\n",
              "    }\n",
              "\n",
              "    .colab-df-buttons div {\n",
              "      margin-bottom: 4px;\n",
              "    }\n",
              "\n",
              "    [theme=dark] .colab-df-convert {\n",
              "      background-color: #3B4455;\n",
              "      fill: #D2E3FC;\n",
              "    }\n",
              "\n",
              "    [theme=dark] .colab-df-convert:hover {\n",
              "      background-color: #434B5C;\n",
              "      box-shadow: 0px 1px 3px 1px rgba(0, 0, 0, 0.15);\n",
              "      filter: drop-shadow(0px 1px 2px rgba(0, 0, 0, 0.3));\n",
              "      fill: #FFFFFF;\n",
              "    }\n",
              "  </style>\n",
              "\n",
              "    <script>\n",
              "      const buttonEl =\n",
              "        document.querySelector('#df-26bb5d8e-bae9-403d-a439-42d6e26a333f button.colab-df-convert');\n",
              "      buttonEl.style.display =\n",
              "        google.colab.kernel.accessAllowed ? 'block' : 'none';\n",
              "\n",
              "      async function convertToInteractive(key) {\n",
              "        const element = document.querySelector('#df-26bb5d8e-bae9-403d-a439-42d6e26a333f');\n",
              "        const dataTable =\n",
              "          await google.colab.kernel.invokeFunction('convertToInteractive',\n",
              "                                                    [key], {});\n",
              "        if (!dataTable) return;\n",
              "\n",
              "        const docLinkHtml = 'Like what you see? Visit the ' +\n",
              "          '<a target=\"_blank\" href=https://colab.research.google.com/notebooks/data_table.ipynb>data table notebook</a>'\n",
              "          + ' to learn more about interactive tables.';\n",
              "        element.innerHTML = '';\n",
              "        dataTable['output_type'] = 'display_data';\n",
              "        await google.colab.output.renderOutput(dataTable, element);\n",
              "        const docLink = document.createElement('div');\n",
              "        docLink.innerHTML = docLinkHtml;\n",
              "        element.appendChild(docLink);\n",
              "      }\n",
              "    </script>\n",
              "  </div>\n",
              "\n",
              "\n",
              "<div id=\"df-2f78a0a8-3809-4c8f-91c6-83fe2f45b76b\">\n",
              "  <button class=\"colab-df-quickchart\" onclick=\"quickchart('df-2f78a0a8-3809-4c8f-91c6-83fe2f45b76b')\"\n",
              "            title=\"Suggest charts.\"\n",
              "            style=\"display:none;\">\n",
              "\n",
              "<svg xmlns=\"http://www.w3.org/2000/svg\" height=\"24px\"viewBox=\"0 0 24 24\"\n",
              "     width=\"24px\">\n",
              "    <g>\n",
              "        <path d=\"M19 3H5c-1.1 0-2 .9-2 2v14c0 1.1.9 2 2 2h14c1.1 0 2-.9 2-2V5c0-1.1-.9-2-2-2zM9 17H7v-7h2v7zm4 0h-2V7h2v10zm4 0h-2v-4h2v4z\"/>\n",
              "    </g>\n",
              "</svg>\n",
              "  </button>\n",
              "\n",
              "<style>\n",
              "  .colab-df-quickchart {\n",
              "      --bg-color: #E8F0FE;\n",
              "      --fill-color: #1967D2;\n",
              "      --hover-bg-color: #E2EBFA;\n",
              "      --hover-fill-color: #174EA6;\n",
              "      --disabled-fill-color: #AAA;\n",
              "      --disabled-bg-color: #DDD;\n",
              "  }\n",
              "\n",
              "  [theme=dark] .colab-df-quickchart {\n",
              "      --bg-color: #3B4455;\n",
              "      --fill-color: #D2E3FC;\n",
              "      --hover-bg-color: #434B5C;\n",
              "      --hover-fill-color: #FFFFFF;\n",
              "      --disabled-bg-color: #3B4455;\n",
              "      --disabled-fill-color: #666;\n",
              "  }\n",
              "\n",
              "  .colab-df-quickchart {\n",
              "    background-color: var(--bg-color);\n",
              "    border: none;\n",
              "    border-radius: 50%;\n",
              "    cursor: pointer;\n",
              "    display: none;\n",
              "    fill: var(--fill-color);\n",
              "    height: 32px;\n",
              "    padding: 0;\n",
              "    width: 32px;\n",
              "  }\n",
              "\n",
              "  .colab-df-quickchart:hover {\n",
              "    background-color: var(--hover-bg-color);\n",
              "    box-shadow: 0 1px 2px rgba(60, 64, 67, 0.3), 0 1px 3px 1px rgba(60, 64, 67, 0.15);\n",
              "    fill: var(--button-hover-fill-color);\n",
              "  }\n",
              "\n",
              "  .colab-df-quickchart-complete:disabled,\n",
              "  .colab-df-quickchart-complete:disabled:hover {\n",
              "    background-color: var(--disabled-bg-color);\n",
              "    fill: var(--disabled-fill-color);\n",
              "    box-shadow: none;\n",
              "  }\n",
              "\n",
              "  .colab-df-spinner {\n",
              "    border: 2px solid var(--fill-color);\n",
              "    border-color: transparent;\n",
              "    border-bottom-color: var(--fill-color);\n",
              "    animation:\n",
              "      spin 1s steps(1) infinite;\n",
              "  }\n",
              "\n",
              "  @keyframes spin {\n",
              "    0% {\n",
              "      border-color: transparent;\n",
              "      border-bottom-color: var(--fill-color);\n",
              "      border-left-color: var(--fill-color);\n",
              "    }\n",
              "    20% {\n",
              "      border-color: transparent;\n",
              "      border-left-color: var(--fill-color);\n",
              "      border-top-color: var(--fill-color);\n",
              "    }\n",
              "    30% {\n",
              "      border-color: transparent;\n",
              "      border-left-color: var(--fill-color);\n",
              "      border-top-color: var(--fill-color);\n",
              "      border-right-color: var(--fill-color);\n",
              "    }\n",
              "    40% {\n",
              "      border-color: transparent;\n",
              "      border-right-color: var(--fill-color);\n",
              "      border-top-color: var(--fill-color);\n",
              "    }\n",
              "    60% {\n",
              "      border-color: transparent;\n",
              "      border-right-color: var(--fill-color);\n",
              "    }\n",
              "    80% {\n",
              "      border-color: transparent;\n",
              "      border-right-color: var(--fill-color);\n",
              "      border-bottom-color: var(--fill-color);\n",
              "    }\n",
              "    90% {\n",
              "      border-color: transparent;\n",
              "      border-bottom-color: var(--fill-color);\n",
              "    }\n",
              "  }\n",
              "</style>\n",
              "\n",
              "  <script>\n",
              "    async function quickchart(key) {\n",
              "      const quickchartButtonEl =\n",
              "        document.querySelector('#' + key + ' button');\n",
              "      quickchartButtonEl.disabled = true;  // To prevent multiple clicks.\n",
              "      quickchartButtonEl.classList.add('colab-df-spinner');\n",
              "      try {\n",
              "        const charts = await google.colab.kernel.invokeFunction(\n",
              "            'suggestCharts', [key], {});\n",
              "      } catch (error) {\n",
              "        console.error('Error during call to suggestCharts:', error);\n",
              "      }\n",
              "      quickchartButtonEl.classList.remove('colab-df-spinner');\n",
              "      quickchartButtonEl.classList.add('colab-df-quickchart-complete');\n",
              "    }\n",
              "    (() => {\n",
              "      let quickchartButtonEl =\n",
              "        document.querySelector('#df-2f78a0a8-3809-4c8f-91c6-83fe2f45b76b button');\n",
              "      quickchartButtonEl.style.display =\n",
              "        google.colab.kernel.accessAllowed ? 'block' : 'none';\n",
              "    })();\n",
              "  </script>\n",
              "</div>\n",
              "    </div>\n",
              "  </div>\n"
            ]
          },
          "metadata": {},
          "execution_count": 47
        }
      ]
    },
    {
      "cell_type": "code",
      "source": [
        "# Defining a function to get the top n products based on the highest average rating and minimum interactions\n",
        "\n",
        "def top_n_products(final_rating, n, min_interaction):\n",
        "\n",
        "    #Finding movies with minimum number of interactions\n",
        "    recommendations = final_rating_df[final_rating_df['rating_counts'] >= min_interaction]\n",
        "\n",
        "    #Sorting values w.r.t average rating\n",
        "    recommendations = recommendations.sort_values(by='avg_rating', ascending=False)\n",
        "\n",
        "    return recommendations.index[:n]"
      ],
      "metadata": {
        "id": "jIjV2XcrgSon"
      },
      "execution_count": 48,
      "outputs": []
    },
    {
      "cell_type": "code",
      "source": [
        "# Finding products with minimum number of interactions\n",
        "df_final.groupby('prod_id')['rating'].count().sort_values(ascending = True ).head()"
      ],
      "metadata": {
        "colab": {
          "base_uri": "https://localhost:8080/"
        },
        "id": "TCZOMCFvgVhP",
        "outputId": "f5809e80-28de-490d-a345-a5f371da5048"
      },
      "execution_count": 50,
      "outputs": [
        {
          "output_type": "execute_result",
          "data": {
            "text/plain": [
              "prod_id\n",
              "B00LGQ6HL8    5\n",
              "B000WXSO76    5\n",
              "B004WMGT1G    5\n",
              "B000WOT6O0    5\n",
              "B004WR125O    5\n",
              "Name: rating, dtype: int64"
            ]
          },
          "metadata": {},
          "execution_count": 50
        }
      ]
    },
    {
      "cell_type": "code",
      "source": [
        "# Sorting values with respect to average rating\n",
        "final_rating_df.groupby('avg_rating')['avg_rating'].count().sort_values(ascending = True)"
      ],
      "metadata": {
        "colab": {
          "base_uri": "https://localhost:8080/"
        },
        "id": "AcYHM2RXgeVS",
        "outputId": "ca8bede2-2ddc-4293-d1a4-1fbddfd5b050"
      },
      "execution_count": 51,
      "outputs": [
        {
          "output_type": "execute_result",
          "data": {
            "text/plain": [
              "avg_rating\n",
              "1.375000      1\n",
              "4.378378      1\n",
              "4.369565      1\n",
              "4.368421      1\n",
              "4.367347      1\n",
              "           ... \n",
              "4.800000    201\n",
              "4.600000    206\n",
              "4.500000    215\n",
              "4.000000    317\n",
              "5.000000    341\n",
              "Name: avg_rating, Length: 509, dtype: int64"
            ]
          },
          "metadata": {},
          "execution_count": 51
        }
      ]
    },
    {
      "cell_type": "markdown",
      "source": [
        "###**Recommending top 5 products with 50 minimum interactions based on popularity**"
      ],
      "metadata": {
        "id": "9rLeiS3zgnMB"
      }
    },
    {
      "cell_type": "code",
      "source": [
        "list(top_n_products(final_rating_df, 5, 50))"
      ],
      "metadata": {
        "colab": {
          "base_uri": "https://localhost:8080/"
        },
        "id": "Po3leCaSgsNE",
        "outputId": "941761af-9b57-434c-8bf9-a21157bdf857"
      },
      "execution_count": 52,
      "outputs": [
        {
          "output_type": "execute_result",
          "data": {
            "text/plain": [
              "['B001TH7GUU', 'B003ES5ZUU', 'B0019EHU8G', 'B006W8U2MU', 'B000QUUFRW']"
            ]
          },
          "metadata": {},
          "execution_count": 52
        }
      ]
    },
    {
      "cell_type": "markdown",
      "source": [
        "###**Recommending top 5 products with 100 minimum interactions based on popularity**"
      ],
      "metadata": {
        "id": "ZE55GTKbg4Oz"
      }
    },
    {
      "cell_type": "code",
      "source": [
        "list(top_n_products(final_rating_df, 5, 100))"
      ],
      "metadata": {
        "colab": {
          "base_uri": "https://localhost:8080/"
        },
        "id": "fyeB5lTYg9Nh",
        "outputId": "44edf88d-6857-4d14-9f17-195d0e197ab2"
      },
      "execution_count": 53,
      "outputs": [
        {
          "output_type": "execute_result",
          "data": {
            "text/plain": [
              "['B003ES5ZUU', 'B000N99BBC', 'B002WE6D44', 'B007WTAJTO', 'B002V88HFE']"
            ]
          },
          "metadata": {},
          "execution_count": 53
        }
      ]
    },
    {
      "cell_type": "markdown",
      "source": [
        "We have recommended the **top 5** products by using the popularity recommendation system. Now, let's build a recommendation system using **collaborative filtering.**"
      ],
      "metadata": {
        "id": "4S57D9oUhFjj"
      }
    },
    {
      "cell_type": "markdown",
      "source": [
        "##**Model 2: Collaborative Filtering Recommendation System**\n",
        "\n",
        "\n",
        "###**Building a baseline user-user similarity based on recommendation system**\n",
        "\n",
        "* Below, we are building similarity-based recommendation systems using cosine similarity and using KNN to find similar users which are the nearest neighbor to the given user.\n",
        "* We will be using a new library, called surprise, to build the remaining models. Let's first import the necessary classes and functions from this library."
      ],
      "metadata": {
        "id": "saay2bQLhNXF"
      }
    },
    {
      "cell_type": "code",
      "source": [
        "# To compute the accuracy of models\n",
        "from surprise import accuracy\n",
        "\n",
        "# Class is used to parse a file containing ratings, data should be in structure - user ; item ; rating\n",
        "from surprise.reader import Reader\n",
        "\n",
        "# Class for loading datasets\n",
        "from surprise.dataset import Dataset\n",
        "\n",
        "# For tuning model hyperparameters\n",
        "from surprise.model_selection import GridSearchCV\n",
        "\n",
        "# For splitting the rating data in train and test datasets\n",
        "from surprise.model_selection import train_test_split\n",
        "\n",
        "# For implementing similarity-based recommendation system\n",
        "from surprise.prediction_algorithms.knns import KNNBasic\n",
        "\n",
        "# For implementing matrix factorization based recommendation system\n",
        "from surprise.prediction_algorithms.matrix_factorization import SVD\n",
        "\n",
        "# for implementing K-Fold cross-validation\n",
        "from surprise.model_selection import KFold\n",
        "\n",
        "# For implementing clustering-based recommendation system\n",
        "from surprise import CoClustering"
      ],
      "metadata": {
        "id": "Ex_2MdeLhmzH"
      },
      "execution_count": 54,
      "outputs": []
    },
    {
      "cell_type": "markdown",
      "source": [
        "Before building the recommendation systems, let's go over some basic terminologies we are going to use:\n",
        "\n",
        "Relevant item: An item (product in this case) that is actually rated higher than the threshold rating is relevant, if the actual rating is below the threshold then it is a non-relevant item.\n",
        "\n",
        "Recommended item: An item that's predicted rating is higher than the threshold is a recommended item, if the predicted rating is below the threshold then that product will not be recommended to the user.\n",
        "\n",
        "**False Negative (FN):** It is the **frequency of relevant items that are not recommended to the user.** If the relevant items are not recommended to the user, then the user might not buy the product/item. This would result in the loss of opportunity for the service provider, which they would like to minimize.\n",
        "\n",
        "**False Positive (FP):** It is the **frequency of recommended items that are actually not relevant.** In this case, the recommendation system is not doing a good job of finding and recommending the relevant items to the user. This would result in loss of resources for the service provider, which they would also like to minimize.\n",
        "\n",
        "**Recall:** It is the **fraction of actually relevant items that are recommended to the user,** i.e., if out of 10 relevant products, 6 are recommended to the user then recall is 0.60. Higher the value of recall better is the model. It is one of the metrics to do the performance assessment of classification models.\n",
        "\n",
        "**Precision:** It is the **fraction of recommended items that are relevant actually**, i.e., if out of 10 recommended items, 6 are found relevant by the user then precision is 0.60. The higher the value of precision better is the model. It is one of the metrics to do the performance assessment of classification models.\n",
        "\n",
        "While making a recommendation system, it becomes customary to look at the performance of the model. In terms of how many recommendations are relevant and vice-versa, below are some most used performance metrics used in the assessment of recommendation systems.\n",
        "\n",
        "Precision@k, Recall@ k, and F1-score@k\n",
        "Precision@k - It is the fraction of recommended items that are relevant in top k predictions. The value of k is the number of recommendations to be provided to the user. One can choose a variable number of recommendations to be given to a unique user.\n",
        "\n",
        "Recall@k - It is the fraction of relevant items that are recommended to the user in top k predictions.\n",
        "\n",
        "F1-score@k - It is the harmonic mean of Precision@k and Recall@k. When precision@k and recall@k both seem to be important then it is useful to use this metric because it is representative of both of them.\n",
        "\n",
        "Some useful functions\n",
        "Below function takes the recommendation model as input and gives the precision@k, recall@k, and F1-score@k for that model.\n",
        "To compute precision and recall, top k predictions are taken under consideration for each user.\n",
        "We will use the precision and recall to compute the F1-score."
      ],
      "metadata": {
        "id": "qjk5fEcrhzQJ"
      }
    },
    {
      "cell_type": "code",
      "source": [
        "def precision_recall_at_k(model, k = 10, threshold = 3.5):\n",
        "    \"\"\"Return precision and recall at k metrics for each user\"\"\"\n",
        "\n",
        "    # First map the predictions to each user\n",
        "    user_est_true = defaultdict(list)\n",
        "\n",
        "    # Making predictions on the test data\n",
        "    predictions = model.test(testset)\n",
        "\n",
        "    for uid, _, true_r, est, _ in predictions:\n",
        "        user_est_true[uid].append((est, true_r))\n",
        "\n",
        "    precisions = dict()\n",
        "    recalls = dict()\n",
        "    for uid, user_ratings in user_est_true.items():\n",
        "\n",
        "        # Sort user ratings by estimated value\n",
        "        user_ratings.sort(key = lambda x: x[0], reverse = True)\n",
        "\n",
        "        # Number of relevant items\n",
        "        n_rel = sum((true_r >= threshold) for (_, true_r) in user_ratings)\n",
        "\n",
        "        # Number of recommended items in top k\n",
        "        n_rec_k = sum((est >= threshold) for (est, _) in user_ratings[:k])\n",
        "\n",
        "        # Number of relevant and recommended items in top k\n",
        "        n_rel_and_rec_k = sum(((true_r >= threshold) and (est >= threshold))\n",
        "                              for (est, true_r) in user_ratings[:k])\n",
        "\n",
        "        # Precision@K: Proportion of recommended items that are relevant\n",
        "        # When n_rec_k is 0, Precision is undefined. Therefore, we are setting Precision to 0 when n_rec_k is 0\n",
        "\n",
        "        precisions[uid] = n_rel_and_rec_k / n_rec_k if n_rec_k != 0 else 0\n",
        "\n",
        "        # Recall@K: Proportion of relevant items that are recommended\n",
        "        # When n_rel is 0, Recall is undefined. Therefore, we are setting Recall to 0 when n_rel is 0\n",
        "\n",
        "        recalls[uid] = n_rel_and_rec_k / n_rel if n_rel != 0 else 0\n",
        "\n",
        "    # Mean of all the predicted precisions are calculated.\n",
        "    precision = round((sum(prec for prec in precisions.values()) / len(precisions)), 3)\n",
        "\n",
        "    # Mean of all the predicted recalls are calculated.\n",
        "    recall = round((sum(rec for rec in recalls.values()) / len(recalls)), 3)\n",
        "\n",
        "    accuracy.rmse(predictions)\n",
        "\n",
        "    print('Precision: ', precision) # Command to print the overall precision\n",
        "\n",
        "    print('Recall: ', recall) # Command to print the overall recall\n",
        "\n",
        "    print('F_1 score: ', round((2*precision*recall)/(precision+recall), 3)) # Formula to compute the F-1 score"
      ],
      "metadata": {
        "id": "eJkMH-x9iWHl"
      },
      "execution_count": 55,
      "outputs": []
    },
    {
      "cell_type": "markdown",
      "source": [
        "**Hints:**\n",
        "\n",
        "* To compute **precision and recall,** a **threshold of 3.5 and k value of 10 can be considered for the recommended and relevant ratings.**\n",
        "* Think about the performance metric to choose.\n",
        "\n",
        "Below we are loading the **rating dataset**, which is a **pandas DataFrame, into a different format called surprise.dataset.DatasetAutoFolds,** which is required by this library. To do this, we will be using the classes Reader and Dataset."
      ],
      "metadata": {
        "id": "lJYdaBRpihh7"
      }
    },
    {
      "cell_type": "code",
      "source": [
        "# Instantiating Reader scale with expected rating scale\n",
        "reader = Reader(rating_scale=(0, 5))"
      ],
      "metadata": {
        "id": "8NPCQQJji1Pe"
      },
      "execution_count": 56,
      "outputs": []
    },
    {
      "cell_type": "code",
      "source": [
        "# Loading the rating dataset\n",
        "data = Dataset.load_from_df(df_final[['user_id', 'prod_id', 'rating']], reader)"
      ],
      "metadata": {
        "id": "2creQGsoi4B5"
      },
      "execution_count": 58,
      "outputs": []
    },
    {
      "cell_type": "code",
      "source": [
        "# Splitting the data into train and test datasets\n",
        "trainset, testset = train_test_split(data, test_size=0.2, random_state=42)"
      ],
      "metadata": {
        "id": "x4t-NhP4jCFa"
      },
      "execution_count": 59,
      "outputs": []
    },
    {
      "cell_type": "markdown",
      "source": [
        "Now, we are **ready to build the first baseline similarity-based recommendation system** using the **cosine similarity.**"
      ],
      "metadata": {
        "id": "DIDvy09ajHO0"
      }
    },
    {
      "cell_type": "markdown",
      "source": [
        "###**Building the user-user Similarity-based Recommendation System**"
      ],
      "metadata": {
        "id": "TGluj1iZjOK3"
      }
    },
    {
      "cell_type": "code",
      "source": [
        "# Declaring the similarity options\n",
        "from surprise import KNNBasic\n",
        "algo = KNNBasic()\n",
        "sim_options = {'name': 'cosine',\n",
        "               'user_based': True}"
      ],
      "metadata": {
        "id": "I_mG7dq6jFmY"
      },
      "execution_count": 60,
      "outputs": []
    },
    {
      "cell_type": "code",
      "source": [
        "# Initialize the KNNBasic model using sim_options declared, Verbose = False, and setting random_state = 1\n",
        "\n",
        "knnBasic_init = KNNBasic(sim_options=sim_options,verbose=False, random_state = 1)"
      ],
      "metadata": {
        "id": "pA1kbYE8jTs2"
      },
      "execution_count": 61,
      "outputs": []
    },
    {
      "cell_type": "code",
      "source": [
        "# Fit the model on the training data\n",
        "knnBasic_init.fit(trainset)"
      ],
      "metadata": {
        "colab": {
          "base_uri": "https://localhost:8080/"
        },
        "id": "btILeN9jjb91",
        "outputId": "7d5f9164-1b71-4c55-af55-4ac6d14b8f29"
      },
      "execution_count": 62,
      "outputs": [
        {
          "output_type": "execute_result",
          "data": {
            "text/plain": [
              "<surprise.prediction_algorithms.knns.KNNBasic at 0x78589ac76b90>"
            ]
          },
          "metadata": {},
          "execution_count": 62
        }
      ]
    },
    {
      "cell_type": "code",
      "source": [
        "# Let us compute precision@k, recall@k, and f_1 score using the precision_recall_at_k function defined above\n",
        "precision_recall_at_k(knnBasic_init, 10, 3.5)"
      ],
      "metadata": {
        "colab": {
          "base_uri": "https://localhost:8080/"
        },
        "id": "yFzAeElcjfo9",
        "outputId": "d915b733-8b09-4142-fe52-fad18e88cc80"
      },
      "execution_count": 63,
      "outputs": [
        {
          "output_type": "stream",
          "name": "stdout",
          "text": [
            "RMSE: 1.0012\n",
            "Precision:  0.855\n",
            "Recall:  0.858\n",
            "F_1 score:  0.856\n"
          ]
        }
      ]
    },
    {
      "cell_type": "markdown",
      "source": [
        "**Observations:**\n",
        "\n",
        "The RMSE of 1.0012 is relatively low, which means that the model is generally making accurate predictions. The precision of 0.855 and recall of 0.858 are also both good, which means that the model is correctly identifying both the relevant and non-relevant items. The F_1 score of 0.856 is a good indication that the model is performing well overall\n",
        "\n",
        "Let's now predict rating for a user with userId=A3LDPF5FMB782Z and productId=1400501466 as shown below. Here the user has already interacted or watched the product with productId '1400501466' and given a rating of 5."
      ],
      "metadata": {
        "id": "OJjfZDhPjiXj"
      }
    },
    {
      "cell_type": "code",
      "source": [
        "# Predicting rating for a sample user with an interacted product\n",
        "knnBasic_init.predict('A3LDPF5FMB782Z', '1400501466', r_ui=5, verbose=True)"
      ],
      "metadata": {
        "colab": {
          "base_uri": "https://localhost:8080/"
        },
        "id": "DEbM80Vfjqr3",
        "outputId": "39fa1a3b-de0c-4b63-8fde-e142c4e20fe9"
      },
      "execution_count": 64,
      "outputs": [
        {
          "output_type": "stream",
          "name": "stdout",
          "text": [
            "user: A3LDPF5FMB782Z item: 1400501466 r_ui = 5.00   est = 3.40   {'actual_k': 5, 'was_impossible': False}\n"
          ]
        },
        {
          "output_type": "execute_result",
          "data": {
            "text/plain": [
              "Prediction(uid='A3LDPF5FMB782Z', iid='1400501466', r_ui=5, est=3.4, details={'actual_k': 5, 'was_impossible': False})"
            ]
          },
          "metadata": {},
          "execution_count": 64
        }
      ]
    },
    {
      "cell_type": "markdown",
      "source": [
        "**Observations:**\n",
        "\n",
        "Observations :\n",
        "\n",
        "The observation on the given prediction is that the user's rating of the item (r_ui) is 5, while the model's estimate of the rating (est) is 3.4. This means that the model underestimated the user's rating of the item. The details field of the prediction contains additional information, such as the actual rating of the item (actual_k) and whether or not the prediction was impossible (was_impossible). In this case, the actual rating of the item is 5 and the prediction was not impossible.\n",
        "\n",
        "Below is the list of users who have not seen the product with product id \"1400501466\"."
      ],
      "metadata": {
        "id": "ft9PVZfoj5QN"
      }
    },
    {
      "cell_type": "code",
      "source": [
        "# Find unique user_id where prod_id is not equal to \"1400501466\"\n",
        "\n",
        "filtered_df = df_final[df_final[\"prod_id\"] != \"1400501466\"]\n",
        "\n",
        "# Get the unique user_id values from the filtered dataframe\n",
        "unique_user_ids = filtered_df[\"user_id\"].unique()\n",
        "\n",
        "print(unique_user_ids)"
      ],
      "metadata": {
        "colab": {
          "base_uri": "https://localhost:8080/"
        },
        "id": "QjzMzEF1kBK9",
        "outputId": "c73e6024-11a4-49bb-8607-7b1c0d00ecfb"
      },
      "execution_count": 66,
      "outputs": [
        {
          "output_type": "stream",
          "name": "stdout",
          "text": [
            "['A2ZR3YTMEEIIZ4' 'A3CLWR1UUZT6TG' 'A5JLAU2ARJ0BO' ... 'A215WH6RUDUCMP'\n",
            " 'A38C12950IM24P' 'A2J4XMWKR8PPD0']\n"
          ]
        }
      ]
    },
    {
      "cell_type": "markdown",
      "source": [
        "**Observation:**\n",
        "\n",
        "It can be observed from the above list that user \"A34BZM6S9L7QI4\" has not seen the product with productId \"1400501466\" as this userId is a part of the above list."
      ],
      "metadata": {
        "id": "8VXbtJVmkGmY"
      }
    },
    {
      "cell_type": "markdown",
      "source": [
        "**Below we are predicting rating for userId=A34BZM6S9L7QI4 and prod_id=1400501466.**"
      ],
      "metadata": {
        "id": "MtYu_WUgkQyq"
      }
    },
    {
      "cell_type": "code",
      "source": [
        "# Predicting rating for a sample user with a non interacted product\n",
        "knnBasic_init.predict('A34BZM6S9L7QI4', '1400501466', r_ui=5, verbose=True)"
      ],
      "metadata": {
        "colab": {
          "base_uri": "https://localhost:8080/"
        },
        "id": "RSuLM1sJkU3R",
        "outputId": "c6479440-1574-4958-9905-fe7d5e9bc909"
      },
      "execution_count": 67,
      "outputs": [
        {
          "output_type": "stream",
          "name": "stdout",
          "text": [
            "user: A34BZM6S9L7QI4 item: 1400501466 r_ui = 5.00   est = 4.29   {'was_impossible': True, 'reason': 'Not enough neighbors.'}\n"
          ]
        },
        {
          "output_type": "execute_result",
          "data": {
            "text/plain": [
              "Prediction(uid='A34BZM6S9L7QI4', iid='1400501466', r_ui=5, est=4.292024046561495, details={'was_impossible': True, 'reason': 'Not enough neighbors.'})"
            ]
          },
          "metadata": {},
          "execution_count": 67
        }
      ]
    },
    {
      "cell_type": "markdown",
      "source": [
        "**Observations :**\n",
        "\n",
        "* The observation on the given prediction is that the user's rating of the item (r_ui) is 5, while the model's estimate of the rating (est) is 4.29. This means that the model underestimated the user's rating of the item. The details field of the prediction contains additional information, such as the fact that the prediction was impossible (was_impossible) and the reason why it was impossible (reason='Not enough neighbors').\n",
        "\n",
        "* This means that the model was unable to make a prediction for this user-item pair because there were not enough other users who had rated both the item and the user. This can happen when a user has rated very few items, or when the item is new and has not yet been rated by many users.\n",
        "\n",
        "##**Improving similarity-based recommendation system by tuning its hyperparameters**\n",
        "\n",
        "Below, we will be tuning hyperparameters for the KNNBasic algorithm. Let's try to understand some of the hyperparameters of the KNNBasic algorithm:\n",
        "\n",
        "* k (int) – The (max) number of neighbors to take into account for aggregation. Default is 40.\n",
        "* min_k (int) – The minimum number of neighbors to take into account for aggregation. If there are not enough neighbors, the prediction is set to the global mean of all ratings. Default is 1.\n",
        "* sim_options (dict) – A dictionary of options for the similarity measure. And there are four similarity measures available in surprise -\n",
        "* cosine\n",
        "* msd (default)\n",
        "* Pearson\n",
        "* Pearson baseline"
      ],
      "metadata": {
        "id": "9WGkWxZAkb1w"
      }
    },
    {
      "cell_type": "code",
      "source": [
        "# Setting up parameter grid to tune the hyperparameters\n",
        "param_grid = {'k': [20, 30, 40], 'min_k': [3, 6, 9],'sim_options': {'name': ['msd', 'cosine','pearson'],'user_based': [True]}}"
      ],
      "metadata": {
        "id": "MpLxde7ak01J"
      },
      "execution_count": 68,
      "outputs": []
    },
    {
      "cell_type": "code",
      "source": [
        "# Performing 3-fold cross-validation to tune the hyperparameters\n",
        "\n",
        "fold3_grid = GridSearchCV(KNNBasic, param_grid, measures=['rmse', 'mae'], cv=3, n_jobs=-1)"
      ],
      "metadata": {
        "id": "8WJRIEv3k4pf"
      },
      "execution_count": 69,
      "outputs": []
    },
    {
      "cell_type": "code",
      "source": [
        "# Fitting the data\n",
        "\n",
        "fold3_grid.fit(data)"
      ],
      "metadata": {
        "id": "jG55nzZhk97_"
      },
      "execution_count": 70,
      "outputs": []
    },
    {
      "cell_type": "code",
      "source": [
        "# Best RMSE score\n",
        "print(fold3_grid.best_score['rmse'])"
      ],
      "metadata": {
        "colab": {
          "base_uri": "https://localhost:8080/"
        },
        "id": "PBEviJ9glB3C",
        "outputId": "bd857c1f-6ad7-4473-e1c0-0c06062e6fc6"
      },
      "execution_count": 71,
      "outputs": [
        {
          "output_type": "stream",
          "name": "stdout",
          "text": [
            "0.9711649241775832\n"
          ]
        }
      ]
    },
    {
      "cell_type": "code",
      "source": [
        "# Combination of parameters that gave the best RMSE score\n",
        "print(fold3_grid.best_params['rmse'])"
      ],
      "metadata": {
        "colab": {
          "base_uri": "https://localhost:8080/"
        },
        "id": "4_zb7gg5lFKf",
        "outputId": "92720102-1fc4-4708-c195-909defa04c77"
      },
      "execution_count": 72,
      "outputs": [
        {
          "output_type": "stream",
          "name": "stdout",
          "text": [
            "{'k': 40, 'min_k': 6, 'sim_options': {'name': 'cosine', 'user_based': True}}\n"
          ]
        }
      ]
    },
    {
      "cell_type": "markdown",
      "source": [
        "Once the grid search is complete, we can get the optimal values for each of those hyperparameters.\n",
        "\n",
        "Now, let's build the final model by using tuned values of the hyperparameters, which we received by using grid search cross-validation."
      ],
      "metadata": {
        "id": "pK1zFBrclRsF"
      }
    },
    {
      "cell_type": "code",
      "source": [
        "# Using the optimal similarity measure for user-user based collaborative filtering\n",
        "\n",
        "sim_options = {'name': 'msd',\n",
        "               'user_based': True}"
      ],
      "metadata": {
        "id": "WOmrZiBulVbT"
      },
      "execution_count": 73,
      "outputs": []
    },
    {
      "cell_type": "code",
      "source": [
        "# Creating an instance of KNNBasic with optimal hyperparameter values\n",
        "optimized_sim_user = KNNBasic(sim_options=sim_options, k=20, min_k=3,verbose=False)"
      ],
      "metadata": {
        "id": "WmTn1SLXlY3d"
      },
      "execution_count": 74,
      "outputs": []
    },
    {
      "cell_type": "code",
      "source": [
        "# Training the algorithm on the trainset\n",
        "optimized_sim_user.fit(trainset)"
      ],
      "metadata": {
        "colab": {
          "base_uri": "https://localhost:8080/"
        },
        "id": "vZBvd35AlaCt",
        "outputId": "a426e13f-fd08-41c7-a73d-ae9c2461815e"
      },
      "execution_count": 75,
      "outputs": [
        {
          "output_type": "execute_result",
          "data": {
            "text/plain": [
              "<surprise.prediction_algorithms.knns.KNNBasic at 0x78589b24e4a0>"
            ]
          },
          "metadata": {},
          "execution_count": 75
        }
      ]
    },
    {
      "cell_type": "code",
      "source": [
        "# Let us compute precision@k and recall@k also with k =10\n",
        "precision_recall_at_k(optimized_sim_user , 10, 3.5)"
      ],
      "metadata": {
        "colab": {
          "base_uri": "https://localhost:8080/"
        },
        "id": "gGZEwnpuldzk",
        "outputId": "ed29b743-94a3-4ad1-a941-93b131a15663"
      },
      "execution_count": 76,
      "outputs": [
        {
          "output_type": "stream",
          "name": "stdout",
          "text": [
            "RMSE: 0.9593\n",
            "Precision:  0.855\n",
            "Recall:  0.881\n",
            "F_1 score:  0.868\n"
          ]
        }
      ]
    },
    {
      "cell_type": "markdown",
      "source": [
        "**Observations**\n",
        "\n",
        "The RMSE of 0.9593 is relatively high, which means that the model is not making very accurate predictions. The precision of 0.855 and recall of 0.881 are also both good, which means that the model is correctly identifying both the relevant and non-relevant items. The F_1 score of 0.868 is a good indication that the model is performing well overall.\n",
        "\n",
        "**Steps:**\n",
        "* Predict rating for the user with userId=\"A3LDPF5FMB782Z\", and prod_id= \"1400501466\" using the optimized model\n",
        "* Predict rating for userId=\"A34BZM6S9L7QI4\" who has not interacted with * prod_id =\"1400501466\", by using the optimized model\n",
        "* Compare the output with the output from the baseline model"
      ],
      "metadata": {
        "id": "7pvVW3tflfqY"
      }
    },
    {
      "cell_type": "code",
      "source": [
        "# Use sim_user_user_optimized model to recommend for userId \"A3LDPF5FMB782Z\" and productId 1400501466\n",
        "optimized_sim_user.predict('A3LDPF5FMB782Z', '1400501466', r_ui=5, verbose=True)"
      ],
      "metadata": {
        "colab": {
          "base_uri": "https://localhost:8080/"
        },
        "id": "N632rqEClrFB",
        "outputId": "58d43aa6-f333-4229-ece2-e545553cf8c4"
      },
      "execution_count": 77,
      "outputs": [
        {
          "output_type": "stream",
          "name": "stdout",
          "text": [
            "user: A3LDPF5FMB782Z item: 1400501466 r_ui = 5.00   est = 4.85   {'actual_k': 5, 'was_impossible': False}\n"
          ]
        },
        {
          "output_type": "execute_result",
          "data": {
            "text/plain": [
              "Prediction(uid='A3LDPF5FMB782Z', iid='1400501466', r_ui=5, est=4.849056603773586, details={'actual_k': 5, 'was_impossible': False})"
            ]
          },
          "metadata": {},
          "execution_count": 77
        }
      ]
    },
    {
      "cell_type": "code",
      "source": [
        "# Use sim_user_user_optimized model to recommend for userId \"A34BZM6S9L7QI4\" and productId \"1400501466\"\n",
        "optimized_sim_user.predict('A34BZM6S9L7QI4', '1400501466', r_ui=5, verbose=True)"
      ],
      "metadata": {
        "colab": {
          "base_uri": "https://localhost:8080/"
        },
        "id": "PK851U40ltbI",
        "outputId": "06f91696-e45a-4a20-b1e2-e68e9234f989"
      },
      "execution_count": 78,
      "outputs": [
        {
          "output_type": "stream",
          "name": "stdout",
          "text": [
            "user: A34BZM6S9L7QI4 item: 1400501466 r_ui = 5.00   est = 4.29   {'was_impossible': True, 'reason': 'Not enough neighbors.'}\n"
          ]
        },
        {
          "output_type": "execute_result",
          "data": {
            "text/plain": [
              "Prediction(uid='A34BZM6S9L7QI4', iid='1400501466', r_ui=5, est=4.292024046561495, details={'was_impossible': True, 'reason': 'Not enough neighbors.'})"
            ]
          },
          "metadata": {},
          "execution_count": 78
        }
      ]
    },
    {
      "cell_type": "markdown",
      "source": [
        "**Observations**\n",
        "\n",
        "From the True Rating 5 , our base model has predicted 3.4. But, our Optimized model has predicted as 4.85. There is defintely significant increase."
      ],
      "metadata": {
        "id": "Ew5GPOdZl0lp"
      }
    },
    {
      "cell_type": "markdown",
      "source": [
        "**Identifying similar users to a given user (nearest neighbors)**\n",
        "\n",
        "We can also find out similar users to a given user or its nearest neighbors based on this KNNBasic algorithm. Below, we are finding the 5 most similar users to the first user in the list with internal id 0, based on the msd distance metric."
      ],
      "metadata": {
        "id": "mhpS3ELvl89j"
      }
    },
    {
      "cell_type": "code",
      "source": [
        "# 0 is the inner id of the above user\n",
        "optimized_sim_user.get_neighbors(0, k=5)"
      ],
      "metadata": {
        "colab": {
          "base_uri": "https://localhost:8080/"
        },
        "id": "HR9uzxFaly2I",
        "outputId": "13560818-6d52-4078-f88e-57866bcc3027"
      },
      "execution_count": 79,
      "outputs": [
        {
          "output_type": "execute_result",
          "data": {
            "text/plain": [
              "[6, 42, 44, 54, 66]"
            ]
          },
          "metadata": {},
          "execution_count": 79
        }
      ]
    },
    {
      "cell_type": "markdown",
      "source": [
        "###**Implementing the recommendation algorithm based on optimized KNNBasic model**\n",
        "\n",
        "Below we will be implementing a function where the input parameters are:\n",
        "\n",
        "* data: A rating dataset\n",
        "* user_id: A user id against which we want the recommendations\n",
        "* top_n: The number of products we want to recommend\n",
        "* algo: the algorithm we want to use for predicting the ratings\n",
        "* The output of the function is a set of top_n items recommended for the given user_id based on the given algorithm."
      ],
      "metadata": {
        "id": "iJ8BYeFAmGbY"
      }
    },
    {
      "cell_type": "code",
      "source": [
        "def get_recommendations(data, user_id, top_n, algo):\n",
        "\n",
        "    # Creating an empty list to store the recommended product ids\n",
        "    recommendations = []\n",
        "\n",
        "    # Creating an user item interactions matrix\n",
        "    user_item_interactions_matrix = data.pivot(index = 'user_id', columns = 'prod_id', values = 'rating')\n",
        "\n",
        "    # Extracting those product ids which the user_id has not interacted yet\n",
        "    non_interacted_products = user_item_interactions_matrix.loc[user_id][user_item_interactions_matrix.loc[user_id].isnull()].index.tolist()\n",
        "\n",
        "    # Looping through each of the product ids which user_id has not interacted yet\n",
        "    for item_id in non_interacted_products:\n",
        "\n",
        "        # Predicting the ratings for those non interacted product ids by this user\n",
        "        est = algo.predict(user_id, item_id).est\n",
        "\n",
        "        # Appending the predicted ratings\n",
        "        recommendations.append((item_id, est))\n",
        "\n",
        "    # Sorting the predicted ratings in descending order\n",
        "    recommendations.sort(key = lambda x: x[1], reverse = True)\n",
        "\n",
        "    return recommendations[:top_n] # Returing top n highest predicted rating products for this user"
      ],
      "metadata": {
        "id": "dDBkRKcNmXeD"
      },
      "execution_count": 83,
      "outputs": []
    },
    {
      "cell_type": "markdown",
      "source": [
        "**Predicting top 5 products for userId = \"A3LDPF5FMB782Z\" with similarity based recommendation system**"
      ],
      "metadata": {
        "id": "26yCBMX-mb71"
      }
    },
    {
      "cell_type": "code",
      "source": [
        "# Making top 5 recommendations for user_id \"A3LDPF5FMB782Z\" with a similarity-based recommendation engine\n",
        "recommendations = get_recommendations(df_final, 'A3LDPF5FMB782Z', 5, optimized_sim_user)\n",
        "print(recommendations)"
      ],
      "metadata": {
        "colab": {
          "base_uri": "https://localhost:8080/"
        },
        "id": "mXg2mWnSmguG",
        "outputId": "4482cb9f-b14d-4a4c-88a7-1eecbd2ef7d1"
      },
      "execution_count": 84,
      "outputs": [
        {
          "output_type": "stream",
          "name": "stdout",
          "text": [
            "[('B00005LENO', 5), ('B000067RT6', 5), ('B00006HSML', 5), ('B00006I53X', 5), ('B00006I5J7', 5)]\n"
          ]
        }
      ]
    },
    {
      "cell_type": "code",
      "source": [
        "# Building the dataframe for above recommendations with columns \"prod_id\" and \"predicted_ratings\"\n",
        "\n",
        "recommendations_df = pd.DataFrame(recommendations, columns=['prod_id', 'predicted_ratings'])\n",
        "recommendations_df.head()"
      ],
      "metadata": {
        "colab": {
          "base_uri": "https://localhost:8080/",
          "height": 206
        },
        "id": "_VZD8x5Zmini",
        "outputId": "0e56ec46-d047-49e1-ed54-556c652078b4"
      },
      "execution_count": 85,
      "outputs": [
        {
          "output_type": "execute_result",
          "data": {
            "text/plain": [
              "      prod_id  predicted_ratings\n",
              "0  B00005LENO                  5\n",
              "1  B000067RT6                  5\n",
              "2  B00006HSML                  5\n",
              "3  B00006I53X                  5\n",
              "4  B00006I5J7                  5"
            ],
            "text/html": [
              "\n",
              "  <div id=\"df-b3b14f22-d7c3-4cf3-a4b1-4c27272c1d3f\" class=\"colab-df-container\">\n",
              "    <div>\n",
              "<style scoped>\n",
              "    .dataframe tbody tr th:only-of-type {\n",
              "        vertical-align: middle;\n",
              "    }\n",
              "\n",
              "    .dataframe tbody tr th {\n",
              "        vertical-align: top;\n",
              "    }\n",
              "\n",
              "    .dataframe thead th {\n",
              "        text-align: right;\n",
              "    }\n",
              "</style>\n",
              "<table border=\"1\" class=\"dataframe\">\n",
              "  <thead>\n",
              "    <tr style=\"text-align: right;\">\n",
              "      <th></th>\n",
              "      <th>prod_id</th>\n",
              "      <th>predicted_ratings</th>\n",
              "    </tr>\n",
              "  </thead>\n",
              "  <tbody>\n",
              "    <tr>\n",
              "      <th>0</th>\n",
              "      <td>B00005LENO</td>\n",
              "      <td>5</td>\n",
              "    </tr>\n",
              "    <tr>\n",
              "      <th>1</th>\n",
              "      <td>B000067RT6</td>\n",
              "      <td>5</td>\n",
              "    </tr>\n",
              "    <tr>\n",
              "      <th>2</th>\n",
              "      <td>B00006HSML</td>\n",
              "      <td>5</td>\n",
              "    </tr>\n",
              "    <tr>\n",
              "      <th>3</th>\n",
              "      <td>B00006I53X</td>\n",
              "      <td>5</td>\n",
              "    </tr>\n",
              "    <tr>\n",
              "      <th>4</th>\n",
              "      <td>B00006I5J7</td>\n",
              "      <td>5</td>\n",
              "    </tr>\n",
              "  </tbody>\n",
              "</table>\n",
              "</div>\n",
              "    <div class=\"colab-df-buttons\">\n",
              "\n",
              "  <div class=\"colab-df-container\">\n",
              "    <button class=\"colab-df-convert\" onclick=\"convertToInteractive('df-b3b14f22-d7c3-4cf3-a4b1-4c27272c1d3f')\"\n",
              "            title=\"Convert this dataframe to an interactive table.\"\n",
              "            style=\"display:none;\">\n",
              "\n",
              "  <svg xmlns=\"http://www.w3.org/2000/svg\" height=\"24px\" viewBox=\"0 -960 960 960\">\n",
              "    <path d=\"M120-120v-720h720v720H120Zm60-500h600v-160H180v160Zm220 220h160v-160H400v160Zm0 220h160v-160H400v160ZM180-400h160v-160H180v160Zm440 0h160v-160H620v160ZM180-180h160v-160H180v160Zm440 0h160v-160H620v160Z\"/>\n",
              "  </svg>\n",
              "    </button>\n",
              "\n",
              "  <style>\n",
              "    .colab-df-container {\n",
              "      display:flex;\n",
              "      gap: 12px;\n",
              "    }\n",
              "\n",
              "    .colab-df-convert {\n",
              "      background-color: #E8F0FE;\n",
              "      border: none;\n",
              "      border-radius: 50%;\n",
              "      cursor: pointer;\n",
              "      display: none;\n",
              "      fill: #1967D2;\n",
              "      height: 32px;\n",
              "      padding: 0 0 0 0;\n",
              "      width: 32px;\n",
              "    }\n",
              "\n",
              "    .colab-df-convert:hover {\n",
              "      background-color: #E2EBFA;\n",
              "      box-shadow: 0px 1px 2px rgba(60, 64, 67, 0.3), 0px 1px 3px 1px rgba(60, 64, 67, 0.15);\n",
              "      fill: #174EA6;\n",
              "    }\n",
              "\n",
              "    .colab-df-buttons div {\n",
              "      margin-bottom: 4px;\n",
              "    }\n",
              "\n",
              "    [theme=dark] .colab-df-convert {\n",
              "      background-color: #3B4455;\n",
              "      fill: #D2E3FC;\n",
              "    }\n",
              "\n",
              "    [theme=dark] .colab-df-convert:hover {\n",
              "      background-color: #434B5C;\n",
              "      box-shadow: 0px 1px 3px 1px rgba(0, 0, 0, 0.15);\n",
              "      filter: drop-shadow(0px 1px 2px rgba(0, 0, 0, 0.3));\n",
              "      fill: #FFFFFF;\n",
              "    }\n",
              "  </style>\n",
              "\n",
              "    <script>\n",
              "      const buttonEl =\n",
              "        document.querySelector('#df-b3b14f22-d7c3-4cf3-a4b1-4c27272c1d3f button.colab-df-convert');\n",
              "      buttonEl.style.display =\n",
              "        google.colab.kernel.accessAllowed ? 'block' : 'none';\n",
              "\n",
              "      async function convertToInteractive(key) {\n",
              "        const element = document.querySelector('#df-b3b14f22-d7c3-4cf3-a4b1-4c27272c1d3f');\n",
              "        const dataTable =\n",
              "          await google.colab.kernel.invokeFunction('convertToInteractive',\n",
              "                                                    [key], {});\n",
              "        if (!dataTable) return;\n",
              "\n",
              "        const docLinkHtml = 'Like what you see? Visit the ' +\n",
              "          '<a target=\"_blank\" href=https://colab.research.google.com/notebooks/data_table.ipynb>data table notebook</a>'\n",
              "          + ' to learn more about interactive tables.';\n",
              "        element.innerHTML = '';\n",
              "        dataTable['output_type'] = 'display_data';\n",
              "        await google.colab.output.renderOutput(dataTable, element);\n",
              "        const docLink = document.createElement('div');\n",
              "        docLink.innerHTML = docLinkHtml;\n",
              "        element.appendChild(docLink);\n",
              "      }\n",
              "    </script>\n",
              "  </div>\n",
              "\n",
              "\n",
              "<div id=\"df-e86bd8ca-9320-415a-82ba-2681c276de08\">\n",
              "  <button class=\"colab-df-quickchart\" onclick=\"quickchart('df-e86bd8ca-9320-415a-82ba-2681c276de08')\"\n",
              "            title=\"Suggest charts.\"\n",
              "            style=\"display:none;\">\n",
              "\n",
              "<svg xmlns=\"http://www.w3.org/2000/svg\" height=\"24px\"viewBox=\"0 0 24 24\"\n",
              "     width=\"24px\">\n",
              "    <g>\n",
              "        <path d=\"M19 3H5c-1.1 0-2 .9-2 2v14c0 1.1.9 2 2 2h14c1.1 0 2-.9 2-2V5c0-1.1-.9-2-2-2zM9 17H7v-7h2v7zm4 0h-2V7h2v10zm4 0h-2v-4h2v4z\"/>\n",
              "    </g>\n",
              "</svg>\n",
              "  </button>\n",
              "\n",
              "<style>\n",
              "  .colab-df-quickchart {\n",
              "      --bg-color: #E8F0FE;\n",
              "      --fill-color: #1967D2;\n",
              "      --hover-bg-color: #E2EBFA;\n",
              "      --hover-fill-color: #174EA6;\n",
              "      --disabled-fill-color: #AAA;\n",
              "      --disabled-bg-color: #DDD;\n",
              "  }\n",
              "\n",
              "  [theme=dark] .colab-df-quickchart {\n",
              "      --bg-color: #3B4455;\n",
              "      --fill-color: #D2E3FC;\n",
              "      --hover-bg-color: #434B5C;\n",
              "      --hover-fill-color: #FFFFFF;\n",
              "      --disabled-bg-color: #3B4455;\n",
              "      --disabled-fill-color: #666;\n",
              "  }\n",
              "\n",
              "  .colab-df-quickchart {\n",
              "    background-color: var(--bg-color);\n",
              "    border: none;\n",
              "    border-radius: 50%;\n",
              "    cursor: pointer;\n",
              "    display: none;\n",
              "    fill: var(--fill-color);\n",
              "    height: 32px;\n",
              "    padding: 0;\n",
              "    width: 32px;\n",
              "  }\n",
              "\n",
              "  .colab-df-quickchart:hover {\n",
              "    background-color: var(--hover-bg-color);\n",
              "    box-shadow: 0 1px 2px rgba(60, 64, 67, 0.3), 0 1px 3px 1px rgba(60, 64, 67, 0.15);\n",
              "    fill: var(--button-hover-fill-color);\n",
              "  }\n",
              "\n",
              "  .colab-df-quickchart-complete:disabled,\n",
              "  .colab-df-quickchart-complete:disabled:hover {\n",
              "    background-color: var(--disabled-bg-color);\n",
              "    fill: var(--disabled-fill-color);\n",
              "    box-shadow: none;\n",
              "  }\n",
              "\n",
              "  .colab-df-spinner {\n",
              "    border: 2px solid var(--fill-color);\n",
              "    border-color: transparent;\n",
              "    border-bottom-color: var(--fill-color);\n",
              "    animation:\n",
              "      spin 1s steps(1) infinite;\n",
              "  }\n",
              "\n",
              "  @keyframes spin {\n",
              "    0% {\n",
              "      border-color: transparent;\n",
              "      border-bottom-color: var(--fill-color);\n",
              "      border-left-color: var(--fill-color);\n",
              "    }\n",
              "    20% {\n",
              "      border-color: transparent;\n",
              "      border-left-color: var(--fill-color);\n",
              "      border-top-color: var(--fill-color);\n",
              "    }\n",
              "    30% {\n",
              "      border-color: transparent;\n",
              "      border-left-color: var(--fill-color);\n",
              "      border-top-color: var(--fill-color);\n",
              "      border-right-color: var(--fill-color);\n",
              "    }\n",
              "    40% {\n",
              "      border-color: transparent;\n",
              "      border-right-color: var(--fill-color);\n",
              "      border-top-color: var(--fill-color);\n",
              "    }\n",
              "    60% {\n",
              "      border-color: transparent;\n",
              "      border-right-color: var(--fill-color);\n",
              "    }\n",
              "    80% {\n",
              "      border-color: transparent;\n",
              "      border-right-color: var(--fill-color);\n",
              "      border-bottom-color: var(--fill-color);\n",
              "    }\n",
              "    90% {\n",
              "      border-color: transparent;\n",
              "      border-bottom-color: var(--fill-color);\n",
              "    }\n",
              "  }\n",
              "</style>\n",
              "\n",
              "  <script>\n",
              "    async function quickchart(key) {\n",
              "      const quickchartButtonEl =\n",
              "        document.querySelector('#' + key + ' button');\n",
              "      quickchartButtonEl.disabled = true;  // To prevent multiple clicks.\n",
              "      quickchartButtonEl.classList.add('colab-df-spinner');\n",
              "      try {\n",
              "        const charts = await google.colab.kernel.invokeFunction(\n",
              "            'suggestCharts', [key], {});\n",
              "      } catch (error) {\n",
              "        console.error('Error during call to suggestCharts:', error);\n",
              "      }\n",
              "      quickchartButtonEl.classList.remove('colab-df-spinner');\n",
              "      quickchartButtonEl.classList.add('colab-df-quickchart-complete');\n",
              "    }\n",
              "    (() => {\n",
              "      let quickchartButtonEl =\n",
              "        document.querySelector('#df-e86bd8ca-9320-415a-82ba-2681c276de08 button');\n",
              "      quickchartButtonEl.style.display =\n",
              "        google.colab.kernel.accessAllowed ? 'block' : 'none';\n",
              "    })();\n",
              "  </script>\n",
              "</div>\n",
              "    </div>\n",
              "  </div>\n"
            ]
          },
          "metadata": {},
          "execution_count": 85
        }
      ]
    },
    {
      "cell_type": "markdown",
      "source": [
        "##**Item-Item Similarity-based Collaborative Filtering Recommendation System**\n",
        "\n",
        "* Above we have seen similarity-based collaborative filtering where similarity is calculated between users. Now let us look into similarity-based collaborative filtering where similarity is seen between items."
      ],
      "metadata": {
        "id": "nZUH9tkJoGlD"
      }
    },
    {
      "cell_type": "code",
      "source": [
        "# Declaring the similarity options\n",
        "sim_options = {'name': 'cosine',\n",
        "               'user_based': False}"
      ],
      "metadata": {
        "id": "bee0kaigoQF7"
      },
      "execution_count": 86,
      "outputs": []
    },
    {
      "cell_type": "code",
      "source": [
        "# KNN algorithm is used to find desired similar items. Use random_state=1\n",
        "knn_item_item = KNNBasic(sim_options=sim_options,verbose=False)"
      ],
      "metadata": {
        "id": "4DJVLfRAoSe1"
      },
      "execution_count": 87,
      "outputs": []
    },
    {
      "cell_type": "code",
      "source": [
        "# Train the algorithm on the trainset, and predict rating for the test set\n",
        "knn_item_item.fit(trainset)"
      ],
      "metadata": {
        "colab": {
          "base_uri": "https://localhost:8080/"
        },
        "id": "yEqfK_9Noc_J",
        "outputId": "c50cf1d5-496f-4a1c-ce89-621fa1df7c5d"
      },
      "execution_count": 90,
      "outputs": [
        {
          "output_type": "execute_result",
          "data": {
            "text/plain": [
              "<surprise.prediction_algorithms.knns.KNNBasic at 0x78589ac74100>"
            ]
          },
          "metadata": {},
          "execution_count": 90
        }
      ]
    },
    {
      "cell_type": "code",
      "source": [
        "# Let us compute precision@k, recall@k, and f_1 score with k = 10\n",
        "precision_recall_at_k(knn_item_item , 10, 3.5)"
      ],
      "metadata": {
        "colab": {
          "base_uri": "https://localhost:8080/"
        },
        "id": "j_P0F_NpogLO",
        "outputId": "8fea77c0-df0b-48df-d6bb-72a5bab43452"
      },
      "execution_count": 91,
      "outputs": [
        {
          "output_type": "stream",
          "name": "stdout",
          "text": [
            "RMSE: 0.9950\n",
            "Precision:  0.838\n",
            "Recall:  0.845\n",
            "F_1 score:  0.841\n"
          ]
        }
      ]
    },
    {
      "cell_type": "markdown",
      "source": [
        "**Observations:**\n",
        "\n",
        "The RMSE of 0.9950 is relatively high, which means that the model is not making very accurate predictions. The precision of 0.838 and recall of 0.845 are also both good, which means that the model is correctly identifying both the relevant and non-relevant items. The F_1 score of 0.841 is a good indication that the model is performing well overall.\n",
        "\n",
        "Let's now predict a rating for a user with userId = A3LDPF5FMB782Z and prod_Id = 1400501466 as shown below. Here the user has already interacted or watched the product with productId \"1400501466\"."
      ],
      "metadata": {
        "id": "hr9V5mZ9opNv"
      }
    },
    {
      "cell_type": "code",
      "source": [
        "# Predicting rating for a sample user with an interacted product\n",
        "knn_item_item.predict('A3LDPF5FMB782Z', '1400501466', r_ui=5, verbose=True)"
      ],
      "metadata": {
        "colab": {
          "base_uri": "https://localhost:8080/"
        },
        "id": "q8tB-qolqe4p",
        "outputId": "2922b999-9489-42bb-e9f4-10cb135dad73"
      },
      "execution_count": 92,
      "outputs": [
        {
          "output_type": "stream",
          "name": "stdout",
          "text": [
            "user: A3LDPF5FMB782Z item: 1400501466 r_ui = 5.00   est = 4.27   {'actual_k': 22, 'was_impossible': False}\n"
          ]
        },
        {
          "output_type": "execute_result",
          "data": {
            "text/plain": [
              "Prediction(uid='A3LDPF5FMB782Z', iid='1400501466', r_ui=5, est=4.2727272727272725, details={'actual_k': 22, 'was_impossible': False})"
            ]
          },
          "metadata": {},
          "execution_count": 92
        }
      ]
    },
    {
      "cell_type": "markdown",
      "source": [
        "**Observations:**\n",
        "\n",
        "The observation on the given prediction is that the user's rating of the item (r_ui) is 5, while the model's estimate of the rating (est) is 4.27. This means that the model underestimated the user's rating of the item. The details field of the prediction contains additional information, such as the actual rating of the item (actual_k) and whether or not the prediction was impossible (was_impossible). In this case, the actual rating of the item is 22 and the prediction was not impossible.\n",
        "\n",
        "Below we are predicting rating for the userId = A34BZM6S9L7QI4 and prod_id = 1400501466.\n",
        "\n"
      ],
      "metadata": {
        "id": "UFcHkFMWqizD"
      }
    },
    {
      "cell_type": "code",
      "source": [
        "# Predicting rating for a sample user with a non interacted product\n",
        "knn_item_item.predict('A34BZM6S9L7QI4', '1400501466', r_ui=5, verbose=True)"
      ],
      "metadata": {
        "colab": {
          "base_uri": "https://localhost:8080/"
        },
        "id": "bG0cWYusqpue",
        "outputId": "c0b16b96-c7ad-4fcf-e411-948114104c6f"
      },
      "execution_count": 93,
      "outputs": [
        {
          "output_type": "stream",
          "name": "stdout",
          "text": [
            "user: A34BZM6S9L7QI4 item: 1400501466 r_ui = 5.00   est = 4.29   {'was_impossible': True, 'reason': 'Not enough neighbors.'}\n"
          ]
        },
        {
          "output_type": "execute_result",
          "data": {
            "text/plain": [
              "Prediction(uid='A34BZM6S9L7QI4', iid='1400501466', r_ui=5, est=4.292024046561495, details={'was_impossible': True, 'reason': 'Not enough neighbors.'})"
            ]
          },
          "metadata": {},
          "execution_count": 93
        }
      ]
    },
    {
      "cell_type": "markdown",
      "source": [
        "**Observations:**\n",
        "* The observation on the given prediction is that the user's rating of the item (r_ui) is 5, while the model's estimate of the rating (est) is 4.29.\n",
        "\n",
        "* This means that the model underestimated the user's rating of the item. The details field of the prediction contains additional information, such as the fact that the prediction was impossible (was_impossible) and the reason why it was impossible (reason='Not enough neighbors')"
      ],
      "metadata": {
        "id": "sN1UXsHequwn"
      }
    },
    {
      "cell_type": "markdown",
      "source": [
        "###**Hyperparameter tuning the item-item similarity-based model**\n",
        "\n",
        "* Use the following values for the param_grid and tune the model.\n",
        "  *   'k': [10, 20, 30]\n",
        "  * 'min_k': [3, 6, 9]\n",
        "  * 'sim_options': {'name': ['msd', 'cosine']\n",
        "  * 'user_based': [False]\n",
        "* Use GridSearchCV() to tune the model using the 'rmse' measure\n",
        "* Print the best score and best parameters"
      ],
      "metadata": {
        "id": "AUpuQ8lnq90N"
      }
    },
    {
      "cell_type": "code",
      "source": [
        "# Setting up parameter grid to tune the hyperparameters\n",
        "param_grid = {'k': [20, 30], 'min_k': [3],'sim_options': {'name': ['msd', 'cosine',],'user_based': [False]}}"
      ],
      "metadata": {
        "id": "vpPyuor4oo1P"
      },
      "execution_count": 94,
      "outputs": []
    },
    {
      "cell_type": "code",
      "source": [
        "# Performing 3-fold cross validation to tune the hyperparameters\n",
        "fold3_grid_item = GridSearchCV(KNNBasic, param_grid, measures=['rmse', 'mae'], cv=3, n_jobs=-1)"
      ],
      "metadata": {
        "id": "8dUq_M7crZpm"
      },
      "execution_count": 95,
      "outputs": []
    },
    {
      "cell_type": "code",
      "source": [
        "# Fitting the data\n",
        "fold3_grid_item.fit(data)"
      ],
      "metadata": {
        "id": "a8PaAj_urcXl"
      },
      "execution_count": 96,
      "outputs": []
    },
    {
      "cell_type": "code",
      "source": [
        "# Find the best RMSE score\n",
        "print(fold3_grid_item.best_score['rmse'])"
      ],
      "metadata": {
        "colab": {
          "base_uri": "https://localhost:8080/"
        },
        "id": "shS5XfAOrftB",
        "outputId": "fda69f6a-436a-4b0d-b475-a5f591be1674"
      },
      "execution_count": 97,
      "outputs": [
        {
          "output_type": "stream",
          "name": "stdout",
          "text": [
            "0.986635474902155\n"
          ]
        }
      ]
    },
    {
      "cell_type": "markdown",
      "source": [
        "Once the **grid search** is complete, we can get the **optimal values for each of those hyperparameters as shown above.**\n",
        "\n",
        "Now let's build the **final model** by using **tuned values of the hyperparameters** which we received by using grid search cross-validation."
      ],
      "metadata": {
        "id": "pdS6jHfcrjBt"
      }
    },
    {
      "cell_type": "markdown",
      "source": [
        "###**Use the best parameters from GridSearchCV to build the optimized item-item similarity-based model. Compare the performance of the optimized model with the baseline model**"
      ],
      "metadata": {
        "id": "BoQDayiXrwOj"
      }
    },
    {
      "cell_type": "code",
      "source": [
        "# Using the optimal similarity measure for item-item based collaborative filtering\n",
        "sim_options={'name': 'msd', 'user_based': False}"
      ],
      "metadata": {
        "id": "VO5oou_trglq"
      },
      "execution_count": 98,
      "outputs": []
    },
    {
      "cell_type": "code",
      "source": [
        "# Creating an instance of KNNBasic with optimal hyperparameter values\n",
        "sim_item_item_optimized = KNNBasic(sim_options=sim_options, k=30, min_k=3,verbose=False)"
      ],
      "metadata": {
        "id": "fg7XCgclr3MG"
      },
      "execution_count": 99,
      "outputs": []
    },
    {
      "cell_type": "code",
      "source": [
        "# Training the algorithm on the trainset\n",
        "sim_item_item_optimized.fit(trainset)"
      ],
      "metadata": {
        "colab": {
          "base_uri": "https://localhost:8080/"
        },
        "id": "-skfeH2Dr8cE",
        "outputId": "a175ec6f-9a36-4bf3-dd06-69af46592bb6"
      },
      "execution_count": 100,
      "outputs": [
        {
          "output_type": "execute_result",
          "data": {
            "text/plain": [
              "<surprise.prediction_algorithms.knns.KNNBasic at 0x78589b52b640>"
            ]
          },
          "metadata": {},
          "execution_count": 100
        }
      ]
    },
    {
      "cell_type": "code",
      "source": [
        "# predicting ratings for the testset\n",
        "predictions = sim_item_item_optimized.test(testset)"
      ],
      "metadata": {
        "id": "Y7vwErpir-vC"
      },
      "execution_count": 101,
      "outputs": []
    },
    {
      "cell_type": "code",
      "source": [
        "# Let us compute precision@k and recall@k, f1_score and RMSE\n",
        "precision_recall_at_k(sim_item_item_optimized, 10, 3.5)"
      ],
      "metadata": {
        "colab": {
          "base_uri": "https://localhost:8080/"
        },
        "id": "KEsZGVY2sCFR",
        "outputId": "3cea8384-66f8-42ad-f024-1d8d1961afa2"
      },
      "execution_count": 102,
      "outputs": [
        {
          "output_type": "stream",
          "name": "stdout",
          "text": [
            "RMSE: 0.9646\n",
            "Precision:  0.841\n",
            "Recall:  0.867\n",
            "F_1 score:  0.854\n"
          ]
        }
      ]
    },
    {
      "cell_type": "markdown",
      "source": [
        "**Observations:**\n",
        "\n",
        "* The RMSE of 0.9648 is relatively high, which means that the model is not making very accurate predictions.\n",
        "\n",
        "* The precision of 0.837 and recall of 0.868 are also both good, which means that the model is correctly identifying both the relevant and non-relevant items.\n",
        "\n",
        "* The F_1 score of 0.852 is a good indication that the model is performing well overall."
      ],
      "metadata": {
        "id": "vJokrO8QsF9B"
      }
    },
    {
      "cell_type": "markdown",
      "source": [
        "**Steps:**\n",
        "* Predict rating for the user with userId=\"A3LDPF5FMB782Z\", and prod_id= \"1400501466\" using the optimized model\n",
        "\n",
        "* Predict rating for userId=\"A34BZM6S9L7QI4\" who has not interacted with prod_id =\"1400501466\", by using the optimized model\n",
        "\n",
        "* Compare the output with the output from the baseline model**"
      ],
      "metadata": {
        "id": "3E5smN4XsTYA"
      }
    },
    {
      "cell_type": "code",
      "source": [
        "# Use sim_item_item_optimized model to recommend for userId \"A3LDPF5FMB782Z\" and productId \"1400501466\"\n",
        "sim_item_item_optimized.predict('A3LDPF5FMB782Z', '1400501466', r_ui=5, verbose=True)"
      ],
      "metadata": {
        "colab": {
          "base_uri": "https://localhost:8080/"
        },
        "id": "_OJ3xYT7sFwP",
        "outputId": "1e1112f2-ad12-43b9-ee17-f60e72aef15e"
      },
      "execution_count": 103,
      "outputs": [
        {
          "output_type": "stream",
          "name": "stdout",
          "text": [
            "user: A3LDPF5FMB782Z item: 1400501466 r_ui = 5.00   est = 4.67   {'actual_k': 22, 'was_impossible': False}\n"
          ]
        },
        {
          "output_type": "execute_result",
          "data": {
            "text/plain": [
              "Prediction(uid='A3LDPF5FMB782Z', iid='1400501466', r_ui=5, est=4.67427701674277, details={'actual_k': 22, 'was_impossible': False})"
            ]
          },
          "metadata": {},
          "execution_count": 103
        }
      ]
    },
    {
      "cell_type": "code",
      "source": [
        "# Use sim_item_item_optimized model to recommend for userId \"A34BZM6S9L7QI4\" and productId \"1400501466\"\n",
        "sim_item_item_optimized.predict('A34BZM6S9L7QI4', '1400501466', r_ui=5, verbose=True)"
      ],
      "metadata": {
        "colab": {
          "base_uri": "https://localhost:8080/"
        },
        "id": "xdR0kWcGsnm6",
        "outputId": "6174416f-e60d-4553-8bd7-d0a385330806"
      },
      "execution_count": 104,
      "outputs": [
        {
          "output_type": "stream",
          "name": "stdout",
          "text": [
            "user: A34BZM6S9L7QI4 item: 1400501466 r_ui = 5.00   est = 4.29   {'was_impossible': True, 'reason': 'Not enough neighbors.'}\n"
          ]
        },
        {
          "output_type": "execute_result",
          "data": {
            "text/plain": [
              "Prediction(uid='A34BZM6S9L7QI4', iid='1400501466', r_ui=5, est=4.292024046561495, details={'was_impossible': True, 'reason': 'Not enough neighbors.'})"
            ]
          },
          "metadata": {},
          "execution_count": 104
        }
      ]
    },
    {
      "cell_type": "markdown",
      "source": [
        "**Observations:**\n",
        "\n",
        "* No significant improvement, compared to previous models."
      ],
      "metadata": {
        "id": "s1grX7iVsuJj"
      }
    },
    {
      "cell_type": "markdown",
      "source": [
        "###**Identifying similar items to a given item (nearest neighbors)**\n",
        "\n",
        "We can also find out similar items to a given item or its nearest neighbors based on this KNNBasic algorithm. Below we are finding the 5 most similar items to the item with internal id 0 based on the msd distance metric."
      ],
      "metadata": {
        "id": "IDgUYAU3s51t"
      }
    },
    {
      "cell_type": "code",
      "source": [
        "sim_item_item_optimized.get_neighbors(0, k=5)"
      ],
      "metadata": {
        "colab": {
          "base_uri": "https://localhost:8080/"
        },
        "id": "Du3KWvtgsp5h",
        "outputId": "cd1671ac-0c63-4a4b-be67-fcc5738a95fb"
      },
      "execution_count": 105,
      "outputs": [
        {
          "output_type": "execute_result",
          "data": {
            "text/plain": [
              "[29, 53, 67, 106, 151]"
            ]
          },
          "metadata": {},
          "execution_count": 105
        }
      ]
    },
    {
      "cell_type": "markdown",
      "source": [
        "**Predicting top 5 products for userId = \"A1A5KUIIIHFF4U\" with similarity based recommendation system.**\n",
        "\n",
        "**Hint:** Use the get_recommendations() function."
      ],
      "metadata": {
        "id": "W_3LSw-GtMjR"
      }
    },
    {
      "cell_type": "code",
      "source": [
        "# Making top 5 recommendations for user_id A1A5KUIIIHFF4U with similarity-based recommendation engine.\n",
        "recommendations = get_recommendations(df_final, 'A1A5KUIIIHFF4U', 5, sim_item_item_optimized)\n",
        "print(recommendations)"
      ],
      "metadata": {
        "colab": {
          "base_uri": "https://localhost:8080/"
        },
        "id": "vheYNXsztKd6",
        "outputId": "4b974388-0c43-4aea-e121-f77049c3890c"
      },
      "execution_count": 106,
      "outputs": [
        {
          "output_type": "stream",
          "name": "stdout",
          "text": [
            "[('B0000X0VCY', 5), ('B00029U1DK', 5), ('B0019EHU8G', 5), ('B001MSU1FS', 5), ('B001SJVU6K', 5)]\n"
          ]
        }
      ]
    },
    {
      "cell_type": "code",
      "source": [
        "# Building the dataframe for above recommendations with columns \"prod_id\" and \"predicted_ratings\"\n",
        "recommendations_df1 = pd.DataFrame(recommendations, columns=['prod_id', 'predicted_ratings'])\n",
        "recommendations_df1.head()"
      ],
      "metadata": {
        "colab": {
          "base_uri": "https://localhost:8080/",
          "height": 206
        },
        "id": "LinI5i5ItYyl",
        "outputId": "865559d2-c3d7-44be-d5be-4ab1d060889f"
      },
      "execution_count": 107,
      "outputs": [
        {
          "output_type": "execute_result",
          "data": {
            "text/plain": [
              "      prod_id  predicted_ratings\n",
              "0  B0000X0VCY                  5\n",
              "1  B00029U1DK                  5\n",
              "2  B0019EHU8G                  5\n",
              "3  B001MSU1FS                  5\n",
              "4  B001SJVU6K                  5"
            ],
            "text/html": [
              "\n",
              "  <div id=\"df-36816872-8e36-4fc1-bcd3-992b8c317d11\" class=\"colab-df-container\">\n",
              "    <div>\n",
              "<style scoped>\n",
              "    .dataframe tbody tr th:only-of-type {\n",
              "        vertical-align: middle;\n",
              "    }\n",
              "\n",
              "    .dataframe tbody tr th {\n",
              "        vertical-align: top;\n",
              "    }\n",
              "\n",
              "    .dataframe thead th {\n",
              "        text-align: right;\n",
              "    }\n",
              "</style>\n",
              "<table border=\"1\" class=\"dataframe\">\n",
              "  <thead>\n",
              "    <tr style=\"text-align: right;\">\n",
              "      <th></th>\n",
              "      <th>prod_id</th>\n",
              "      <th>predicted_ratings</th>\n",
              "    </tr>\n",
              "  </thead>\n",
              "  <tbody>\n",
              "    <tr>\n",
              "      <th>0</th>\n",
              "      <td>B0000X0VCY</td>\n",
              "      <td>5</td>\n",
              "    </tr>\n",
              "    <tr>\n",
              "      <th>1</th>\n",
              "      <td>B00029U1DK</td>\n",
              "      <td>5</td>\n",
              "    </tr>\n",
              "    <tr>\n",
              "      <th>2</th>\n",
              "      <td>B0019EHU8G</td>\n",
              "      <td>5</td>\n",
              "    </tr>\n",
              "    <tr>\n",
              "      <th>3</th>\n",
              "      <td>B001MSU1FS</td>\n",
              "      <td>5</td>\n",
              "    </tr>\n",
              "    <tr>\n",
              "      <th>4</th>\n",
              "      <td>B001SJVU6K</td>\n",
              "      <td>5</td>\n",
              "    </tr>\n",
              "  </tbody>\n",
              "</table>\n",
              "</div>\n",
              "    <div class=\"colab-df-buttons\">\n",
              "\n",
              "  <div class=\"colab-df-container\">\n",
              "    <button class=\"colab-df-convert\" onclick=\"convertToInteractive('df-36816872-8e36-4fc1-bcd3-992b8c317d11')\"\n",
              "            title=\"Convert this dataframe to an interactive table.\"\n",
              "            style=\"display:none;\">\n",
              "\n",
              "  <svg xmlns=\"http://www.w3.org/2000/svg\" height=\"24px\" viewBox=\"0 -960 960 960\">\n",
              "    <path d=\"M120-120v-720h720v720H120Zm60-500h600v-160H180v160Zm220 220h160v-160H400v160Zm0 220h160v-160H400v160ZM180-400h160v-160H180v160Zm440 0h160v-160H620v160ZM180-180h160v-160H180v160Zm440 0h160v-160H620v160Z\"/>\n",
              "  </svg>\n",
              "    </button>\n",
              "\n",
              "  <style>\n",
              "    .colab-df-container {\n",
              "      display:flex;\n",
              "      gap: 12px;\n",
              "    }\n",
              "\n",
              "    .colab-df-convert {\n",
              "      background-color: #E8F0FE;\n",
              "      border: none;\n",
              "      border-radius: 50%;\n",
              "      cursor: pointer;\n",
              "      display: none;\n",
              "      fill: #1967D2;\n",
              "      height: 32px;\n",
              "      padding: 0 0 0 0;\n",
              "      width: 32px;\n",
              "    }\n",
              "\n",
              "    .colab-df-convert:hover {\n",
              "      background-color: #E2EBFA;\n",
              "      box-shadow: 0px 1px 2px rgba(60, 64, 67, 0.3), 0px 1px 3px 1px rgba(60, 64, 67, 0.15);\n",
              "      fill: #174EA6;\n",
              "    }\n",
              "\n",
              "    .colab-df-buttons div {\n",
              "      margin-bottom: 4px;\n",
              "    }\n",
              "\n",
              "    [theme=dark] .colab-df-convert {\n",
              "      background-color: #3B4455;\n",
              "      fill: #D2E3FC;\n",
              "    }\n",
              "\n",
              "    [theme=dark] .colab-df-convert:hover {\n",
              "      background-color: #434B5C;\n",
              "      box-shadow: 0px 1px 3px 1px rgba(0, 0, 0, 0.15);\n",
              "      filter: drop-shadow(0px 1px 2px rgba(0, 0, 0, 0.3));\n",
              "      fill: #FFFFFF;\n",
              "    }\n",
              "  </style>\n",
              "\n",
              "    <script>\n",
              "      const buttonEl =\n",
              "        document.querySelector('#df-36816872-8e36-4fc1-bcd3-992b8c317d11 button.colab-df-convert');\n",
              "      buttonEl.style.display =\n",
              "        google.colab.kernel.accessAllowed ? 'block' : 'none';\n",
              "\n",
              "      async function convertToInteractive(key) {\n",
              "        const element = document.querySelector('#df-36816872-8e36-4fc1-bcd3-992b8c317d11');\n",
              "        const dataTable =\n",
              "          await google.colab.kernel.invokeFunction('convertToInteractive',\n",
              "                                                    [key], {});\n",
              "        if (!dataTable) return;\n",
              "\n",
              "        const docLinkHtml = 'Like what you see? Visit the ' +\n",
              "          '<a target=\"_blank\" href=https://colab.research.google.com/notebooks/data_table.ipynb>data table notebook</a>'\n",
              "          + ' to learn more about interactive tables.';\n",
              "        element.innerHTML = '';\n",
              "        dataTable['output_type'] = 'display_data';\n",
              "        await google.colab.output.renderOutput(dataTable, element);\n",
              "        const docLink = document.createElement('div');\n",
              "        docLink.innerHTML = docLinkHtml;\n",
              "        element.appendChild(docLink);\n",
              "      }\n",
              "    </script>\n",
              "  </div>\n",
              "\n",
              "\n",
              "<div id=\"df-abc41ba1-dc4c-4e97-b864-82efed030d7b\">\n",
              "  <button class=\"colab-df-quickchart\" onclick=\"quickchart('df-abc41ba1-dc4c-4e97-b864-82efed030d7b')\"\n",
              "            title=\"Suggest charts.\"\n",
              "            style=\"display:none;\">\n",
              "\n",
              "<svg xmlns=\"http://www.w3.org/2000/svg\" height=\"24px\"viewBox=\"0 0 24 24\"\n",
              "     width=\"24px\">\n",
              "    <g>\n",
              "        <path d=\"M19 3H5c-1.1 0-2 .9-2 2v14c0 1.1.9 2 2 2h14c1.1 0 2-.9 2-2V5c0-1.1-.9-2-2-2zM9 17H7v-7h2v7zm4 0h-2V7h2v10zm4 0h-2v-4h2v4z\"/>\n",
              "    </g>\n",
              "</svg>\n",
              "  </button>\n",
              "\n",
              "<style>\n",
              "  .colab-df-quickchart {\n",
              "      --bg-color: #E8F0FE;\n",
              "      --fill-color: #1967D2;\n",
              "      --hover-bg-color: #E2EBFA;\n",
              "      --hover-fill-color: #174EA6;\n",
              "      --disabled-fill-color: #AAA;\n",
              "      --disabled-bg-color: #DDD;\n",
              "  }\n",
              "\n",
              "  [theme=dark] .colab-df-quickchart {\n",
              "      --bg-color: #3B4455;\n",
              "      --fill-color: #D2E3FC;\n",
              "      --hover-bg-color: #434B5C;\n",
              "      --hover-fill-color: #FFFFFF;\n",
              "      --disabled-bg-color: #3B4455;\n",
              "      --disabled-fill-color: #666;\n",
              "  }\n",
              "\n",
              "  .colab-df-quickchart {\n",
              "    background-color: var(--bg-color);\n",
              "    border: none;\n",
              "    border-radius: 50%;\n",
              "    cursor: pointer;\n",
              "    display: none;\n",
              "    fill: var(--fill-color);\n",
              "    height: 32px;\n",
              "    padding: 0;\n",
              "    width: 32px;\n",
              "  }\n",
              "\n",
              "  .colab-df-quickchart:hover {\n",
              "    background-color: var(--hover-bg-color);\n",
              "    box-shadow: 0 1px 2px rgba(60, 64, 67, 0.3), 0 1px 3px 1px rgba(60, 64, 67, 0.15);\n",
              "    fill: var(--button-hover-fill-color);\n",
              "  }\n",
              "\n",
              "  .colab-df-quickchart-complete:disabled,\n",
              "  .colab-df-quickchart-complete:disabled:hover {\n",
              "    background-color: var(--disabled-bg-color);\n",
              "    fill: var(--disabled-fill-color);\n",
              "    box-shadow: none;\n",
              "  }\n",
              "\n",
              "  .colab-df-spinner {\n",
              "    border: 2px solid var(--fill-color);\n",
              "    border-color: transparent;\n",
              "    border-bottom-color: var(--fill-color);\n",
              "    animation:\n",
              "      spin 1s steps(1) infinite;\n",
              "  }\n",
              "\n",
              "  @keyframes spin {\n",
              "    0% {\n",
              "      border-color: transparent;\n",
              "      border-bottom-color: var(--fill-color);\n",
              "      border-left-color: var(--fill-color);\n",
              "    }\n",
              "    20% {\n",
              "      border-color: transparent;\n",
              "      border-left-color: var(--fill-color);\n",
              "      border-top-color: var(--fill-color);\n",
              "    }\n",
              "    30% {\n",
              "      border-color: transparent;\n",
              "      border-left-color: var(--fill-color);\n",
              "      border-top-color: var(--fill-color);\n",
              "      border-right-color: var(--fill-color);\n",
              "    }\n",
              "    40% {\n",
              "      border-color: transparent;\n",
              "      border-right-color: var(--fill-color);\n",
              "      border-top-color: var(--fill-color);\n",
              "    }\n",
              "    60% {\n",
              "      border-color: transparent;\n",
              "      border-right-color: var(--fill-color);\n",
              "    }\n",
              "    80% {\n",
              "      border-color: transparent;\n",
              "      border-right-color: var(--fill-color);\n",
              "      border-bottom-color: var(--fill-color);\n",
              "    }\n",
              "    90% {\n",
              "      border-color: transparent;\n",
              "      border-bottom-color: var(--fill-color);\n",
              "    }\n",
              "  }\n",
              "</style>\n",
              "\n",
              "  <script>\n",
              "    async function quickchart(key) {\n",
              "      const quickchartButtonEl =\n",
              "        document.querySelector('#' + key + ' button');\n",
              "      quickchartButtonEl.disabled = true;  // To prevent multiple clicks.\n",
              "      quickchartButtonEl.classList.add('colab-df-spinner');\n",
              "      try {\n",
              "        const charts = await google.colab.kernel.invokeFunction(\n",
              "            'suggestCharts', [key], {});\n",
              "      } catch (error) {\n",
              "        console.error('Error during call to suggestCharts:', error);\n",
              "      }\n",
              "      quickchartButtonEl.classList.remove('colab-df-spinner');\n",
              "      quickchartButtonEl.classList.add('colab-df-quickchart-complete');\n",
              "    }\n",
              "    (() => {\n",
              "      let quickchartButtonEl =\n",
              "        document.querySelector('#df-abc41ba1-dc4c-4e97-b864-82efed030d7b button');\n",
              "      quickchartButtonEl.style.display =\n",
              "        google.colab.kernel.accessAllowed ? 'block' : 'none';\n",
              "    })();\n",
              "  </script>\n",
              "</div>\n",
              "    </div>\n",
              "  </div>\n"
            ]
          },
          "metadata": {},
          "execution_count": 107
        }
      ]
    },
    {
      "cell_type": "markdown",
      "source": [
        "Now as we have seen **similarity-based collaborative filtering algorithms,** let us now get into **model-based collaborative filtering algorithms.**"
      ],
      "metadata": {
        "id": "Sgiif1m5teMp"
      }
    },
    {
      "cell_type": "markdown",
      "source": [
        "###**Model 3: Model-Based Collaborative Filtering - Matrix Factorization**\n",
        "\n",
        "Model-based Collaborative Filtering is a **personalized recommendation system,** the recommendations are based on the past behavior of the user and it is not dependent on any additional information. We use latent features to find recommendations for each user.\n",
        "\n",
        "\n",
        "\n",
        "\n",
        "\n",
        "\n",
        "\n",
        "\n",
        "\n",
        "###**Singular Value Decomposition (SVD)**\n",
        "\n",
        "SVD is used to **compute the latent features** from the **user-item matrix.** But SVD does not work when we miss values in the user-item matrix."
      ],
      "metadata": {
        "id": "ggwi62iOtkp0"
      }
    },
    {
      "cell_type": "code",
      "source": [
        "# Using SVD matrix factorization. Use random_state = 1\n",
        "svd_factorization = SVD()"
      ],
      "metadata": {
        "id": "hXtc12JJtcNy"
      },
      "execution_count": 108,
      "outputs": []
    },
    {
      "cell_type": "code",
      "source": [
        "# Training the algorithm on the trainset\n",
        "svd_factorization.fit(trainset)"
      ],
      "metadata": {
        "colab": {
          "base_uri": "https://localhost:8080/"
        },
        "id": "W9TwA9YLuPjb",
        "outputId": "f6a34fba-c798-4439-82d4-3e3a341f5960"
      },
      "execution_count": 109,
      "outputs": [
        {
          "output_type": "execute_result",
          "data": {
            "text/plain": [
              "<surprise.prediction_algorithms.matrix_factorization.SVD at 0x78589b52b340>"
            ]
          },
          "metadata": {},
          "execution_count": 109
        }
      ]
    },
    {
      "cell_type": "code",
      "source": [
        "# predicting ratings for the testset\n",
        "predictions = svd_factorization.test(testset)"
      ],
      "metadata": {
        "id": "LmbKK0NQuSAG"
      },
      "execution_count": 110,
      "outputs": []
    },
    {
      "cell_type": "code",
      "source": [
        "# Use the function precision_recall_at_k to compute precision@k, recall@k, F1-Score, and RMSE\n",
        "precision_recall_at_k(svd_factorization, 10, 3.5)"
      ],
      "metadata": {
        "colab": {
          "base_uri": "https://localhost:8080/"
        },
        "id": "25Tgpz-suTv4",
        "outputId": "4c503ad9-b79c-47ec-9c81-781cf831f00f"
      },
      "execution_count": 111,
      "outputs": [
        {
          "output_type": "stream",
          "name": "stdout",
          "text": [
            "RMSE: 0.8909\n",
            "Precision:  0.85\n",
            "Recall:  0.877\n",
            "F_1 score:  0.863\n"
          ]
        }
      ]
    },
    {
      "cell_type": "markdown",
      "source": [
        "**Observations:**\n",
        "\n",
        "* The RMSE of 0.8897 is relatively low, which means that the model is making accurate predictions.\n",
        "\n",
        "*  The precision of 0.852 and recall of 0.878 are also both good, which means that the model is correctly identifying both the relevant and non-relevant items.\n",
        "\n",
        "* The F_1 score of 0.865 is a good indication that the model is performing well overall.\n",
        "\n"
      ],
      "metadata": {
        "id": "27Xl3gtWuWoq"
      }
    },
    {
      "cell_type": "markdown",
      "source": [
        "**Let's now predict the rating for a user with userId = \"A3LDPF5FMB782Z\" and prod_id = \"1400501466.**"
      ],
      "metadata": {
        "id": "B0Y6SxJgugbg"
      }
    },
    {
      "cell_type": "code",
      "source": [
        "# Making prediction\n",
        "svd_factorization.predict('A3LDPF5FMB782Z', '1400501466', r_ui=5, verbose=True)"
      ],
      "metadata": {
        "colab": {
          "base_uri": "https://localhost:8080/"
        },
        "id": "eXPz2AynukKB",
        "outputId": "b06d0931-deea-4a4b-88d8-7ff3f1234bb8"
      },
      "execution_count": 112,
      "outputs": [
        {
          "output_type": "stream",
          "name": "stdout",
          "text": [
            "user: A3LDPF5FMB782Z item: 1400501466 r_ui = 5.00   est = 4.36   {'was_impossible': False}\n"
          ]
        },
        {
          "output_type": "execute_result",
          "data": {
            "text/plain": [
              "Prediction(uid='A3LDPF5FMB782Z', iid='1400501466', r_ui=5, est=4.355069388136239, details={'was_impossible': False})"
            ]
          },
          "metadata": {},
          "execution_count": 112
        }
      ]
    },
    {
      "cell_type": "markdown",
      "source": [
        "**Observations**\n",
        "\n",
        "* The observation on the given prediction is that the user's rating of the item (r_ui) is 5, while the model's estimate of the rating (est) is 4.20.\n",
        "\n",
        "*  This means that the model underestimated the user's rating of the item. The details field of the prediction contains additional information, such as the fact that the prediction was possible (was_impossible=False)."
      ],
      "metadata": {
        "id": "JcLilFyauocU"
      }
    },
    {
      "cell_type": "markdown",
      "source": [
        "**Below we are predicting rating for the userId = \"A34BZM6S9L7QI4\" and productId = \"1400501466\".**"
      ],
      "metadata": {
        "id": "XR_4AhK4uyud"
      }
    },
    {
      "cell_type": "code",
      "source": [
        "# Making prediction\n",
        "svd_factorization.predict('A34BZM6S9L7QI4', '1400501466', r_ui=5, verbose=True)"
      ],
      "metadata": {
        "colab": {
          "base_uri": "https://localhost:8080/"
        },
        "id": "AE8SbH5-umvi",
        "outputId": "bb7f6868-b2db-453c-f6c9-22edfd7b9230"
      },
      "execution_count": 113,
      "outputs": [
        {
          "output_type": "stream",
          "name": "stdout",
          "text": [
            "user: A34BZM6S9L7QI4 item: 1400501466 r_ui = 5.00   est = 4.09   {'was_impossible': False}\n"
          ]
        },
        {
          "output_type": "execute_result",
          "data": {
            "text/plain": [
              "Prediction(uid='A34BZM6S9L7QI4', iid='1400501466', r_ui=5, est=4.092002484685578, details={'was_impossible': False})"
            ]
          },
          "metadata": {},
          "execution_count": 113
        }
      ]
    },
    {
      "cell_type": "markdown",
      "source": [
        "**Observations:**\n",
        "\n",
        "* The observation on the given prediction is that the user's rating of the item (r_ui) is 5, while the model's estimate of the rating (est) is 4.17.\n",
        "\n",
        "* This means that the model underestimated the user's rating of the item. The details field of the prediction contains additional information, such as the fact that the prediction was possible (was_impossible=False)."
      ],
      "metadata": {
        "id": "7d_ze_AMu62M"
      }
    },
    {
      "cell_type": "markdown",
      "source": [
        "###**Improving Matrix Factorization based recommendation system by tuning its hyperparameters**\n",
        "\n",
        "Below we will be tuning only three hyperparameters:\n",
        "\n",
        "* n_epochs: The number of iterations of the SGD algorithm.\n",
        "* lr_all: The learning rate for all parameters.\n",
        "* reg_all: The regularization term for all parameters."
      ],
      "metadata": {
        "id": "WI4M_6dNvDhF"
      }
    },
    {
      "cell_type": "code",
      "source": [
        "# Set the parameter space to tune\n",
        "param_grid = {'n_epochs': [10, 20, 30], 'lr_all': [0.001, 0.005, 0.01],\n",
        "              'reg_all': [0.2, 0.4, 0.6]}"
      ],
      "metadata": {
        "id": "z3hhaHjgvNPE"
      },
      "execution_count": 114,
      "outputs": []
    },
    {
      "cell_type": "code",
      "source": [
        "# Performing 3-fold gridsearch cross-validation\n",
        "fold3_gs = GridSearchCV(KNNBasic, param_grid, measures=['rmse', 'mae'], cv=3, n_jobs=-1)"
      ],
      "metadata": {
        "id": "5_KZeBcqvQTU"
      },
      "execution_count": 115,
      "outputs": []
    },
    {
      "cell_type": "code",
      "source": [
        "# Fitting data\n",
        "fold3_gs.fit(data)"
      ],
      "metadata": {
        "id": "OHslRO5-vSj1"
      },
      "execution_count": 116,
      "outputs": []
    },
    {
      "cell_type": "code",
      "source": [
        "# Best RMSE score\n",
        "print(fold3_gs.best_score['rmse'])"
      ],
      "metadata": {
        "colab": {
          "base_uri": "https://localhost:8080/"
        },
        "id": "WVdAFc9DvUhu",
        "outputId": "7e6dfaa4-1ab1-4a6b-dd03-f64d181693c3"
      },
      "execution_count": 117,
      "outputs": [
        {
          "output_type": "stream",
          "name": "stdout",
          "text": [
            "1.0450776213575528\n"
          ]
        }
      ]
    },
    {
      "cell_type": "code",
      "source": [
        "# Combination of parameters that gave the best RMSE score\n",
        "print(fold3_gs.best_params['rmse'])"
      ],
      "metadata": {
        "colab": {
          "base_uri": "https://localhost:8080/"
        },
        "id": "AXk1DQfovXMb",
        "outputId": "483de1d5-e563-4ed2-ccd9-817d9cec8162"
      },
      "execution_count": 118,
      "outputs": [
        {
          "output_type": "stream",
          "name": "stdout",
          "text": [
            "{'n_epochs': 10, 'lr_all': 0.001, 'reg_all': 0.2}\n"
          ]
        }
      ]
    },
    {
      "cell_type": "markdown",
      "source": [
        "**Now, we will the build final model by using tuned values of the hyperparameters, which we received using grid search cross-validation above.**"
      ],
      "metadata": {
        "id": "vNLjsi_1vZ0H"
      }
    },
    {
      "cell_type": "code",
      "source": [
        "# Build the optimized SVD model using optimal hyperparameter search. Use random_state=1\n",
        "svd_factor_optimized = SVD(n_epochs=30, lr_all=0.01, reg_all=0.2, random_state=1)"
      ],
      "metadata": {
        "id": "kCOw_dQ4vcrE"
      },
      "execution_count": 119,
      "outputs": []
    },
    {
      "cell_type": "code",
      "source": [
        "# Train the algorithm on the trainset\n",
        "svd_factor_optimized.fit(trainset)"
      ],
      "metadata": {
        "colab": {
          "base_uri": "https://localhost:8080/"
        },
        "id": "4oZ0_BU4vf7W",
        "outputId": "cce22804-26f9-4998-a408-2e50ba876e26"
      },
      "execution_count": 120,
      "outputs": [
        {
          "output_type": "execute_result",
          "data": {
            "text/plain": [
              "<surprise.prediction_algorithms.matrix_factorization.SVD at 0x78589b447640>"
            ]
          },
          "metadata": {},
          "execution_count": 120
        }
      ]
    },
    {
      "cell_type": "code",
      "source": [
        " # predicting ratings for the testset\n",
        "predictions = svd_factor_optimized.test(testset)"
      ],
      "metadata": {
        "id": "nn1xzyg8vkiE"
      },
      "execution_count": 121,
      "outputs": []
    },
    {
      "cell_type": "code",
      "source": [
        "# Use the function precision_recall_at_k to compute precision@k, recall@k, F1-Score, and RMSE\n",
        "precision_recall_at_k(svd_factor_optimized, 10, 3.5)"
      ],
      "metadata": {
        "colab": {
          "base_uri": "https://localhost:8080/"
        },
        "id": "sWiqZYXBvlFy",
        "outputId": "81eba3c3-d1c3-4e3e-e103-2d92926c2d8e"
      },
      "execution_count": 122,
      "outputs": [
        {
          "output_type": "stream",
          "name": "stdout",
          "text": [
            "RMSE: 0.8814\n",
            "Precision:  0.853\n",
            "Recall:  0.874\n",
            "F_1 score:  0.863\n"
          ]
        }
      ]
    },
    {
      "cell_type": "markdown",
      "source": [
        "**Observations:**\n",
        "\n",
        "* The RMSE of 0.8814 is relatively low, which means that the model is making accurate predictions.\n",
        "\n",
        "* The precision of 0.853 and recall of 0.874 are also both good, which means that the model is correctly identifying both the relevant and non-relevant items.\n",
        "\n",
        "* The F_1 score of 0.863 is a good indication that the model is performing well overall."
      ],
      "metadata": {
        "id": "GjAz4yIEv4gi"
      }
    },
    {
      "cell_type": "markdown",
      "source": [
        "**Steps:**\n",
        "\n",
        "* Predict rating for the user with userId=\"A3LDPF5FMB782Z\", and prod_id= \"1400501466\" using the optimized model\n",
        "\n",
        "* Predict rating for userId=\"A34BZM6S9L7QI4\" who has not interacted with prod_id =\"1400501466\", by using the optimized model\n",
        "\n",
        "* Compare the output with the output from the baseline model"
      ],
      "metadata": {
        "id": "v7pjQuXjwE_Z"
      }
    },
    {
      "cell_type": "code",
      "source": [
        "# Use svd_algo_optimized model to recommend for userId \"A3LDPF5FMB782Z\" and productId \"1400501466\"\n",
        "\n",
        "svd_factor_optimized.predict('A3LDPF5FMB782Z', '1400501466', r_ui=5, verbose=True)"
      ],
      "metadata": {
        "colab": {
          "base_uri": "https://localhost:8080/"
        },
        "id": "w7sBU_EuwPUM",
        "outputId": "4b9c0ced-c488-4920-c065-c0713238b860"
      },
      "execution_count": 123,
      "outputs": [
        {
          "output_type": "stream",
          "name": "stdout",
          "text": [
            "user: A3LDPF5FMB782Z item: 1400501466 r_ui = 5.00   est = 4.24   {'was_impossible': False}\n"
          ]
        },
        {
          "output_type": "execute_result",
          "data": {
            "text/plain": [
              "Prediction(uid='A3LDPF5FMB782Z', iid='1400501466', r_ui=5, est=4.238900563954771, details={'was_impossible': False})"
            ]
          },
          "metadata": {},
          "execution_count": 123
        }
      ]
    },
    {
      "cell_type": "code",
      "source": [
        "# Use svd_algo_optimized model to recommend for userId \"A34BZM6S9L7QI4\" and productId \"1400501466\"\n",
        "svd_factor_optimized.predict('A34BZM6S9L7QI4', '1400501466', r_ui=5, verbose=True)"
      ],
      "metadata": {
        "colab": {
          "base_uri": "https://localhost:8080/"
        },
        "id": "2YiACP1Lv3Ar",
        "outputId": "9cb3eb34-bdc4-48ae-82d0-b1f8ac8e67c2"
      },
      "execution_count": 124,
      "outputs": [
        {
          "output_type": "stream",
          "name": "stdout",
          "text": [
            "user: A34BZM6S9L7QI4 item: 1400501466 r_ui = 5.00   est = 4.20   {'was_impossible': False}\n"
          ]
        },
        {
          "output_type": "execute_result",
          "data": {
            "text/plain": [
              "Prediction(uid='A34BZM6S9L7QI4', iid='1400501466', r_ui=5, est=4.204418940307481, details={'was_impossible': False})"
            ]
          },
          "metadata": {},
          "execution_count": 124
        }
      ]
    },
    {
      "cell_type": "markdown",
      "source": [
        "###**Conclusion and Recommendations:**\n",
        "\n",
        "Based on the model that we used namely:\n",
        "\n",
        "* Rank-based using averages (User - User)\n",
        "* similarity-based collaborative filtering (Item - Item)\n",
        "* model-based (matrix factorization) collaborative filtering\n",
        "\n",
        "Model-based Collaborative Filtering is a personalised recommender system, the recommendations are based on the past behavior of the user and it is not dependent on any additional information.\n",
        "\n",
        "The Popularity-based recommender system is non-personalised and the recommendations are based on frequecy counts, which may be not suitable to the user.You can see the differance above for the user id A100UD67AHFODS, A2FZQF0MH29VYN, The Popularity based model has recommended the same set of 5 products to both but Collaborative Filtering based model has recommended entire different list based on the user past purchase history.\n",
        "\n",
        "**The User-User model achieved the best RMSE after hyperparameter tuning and optimization. It significantly reduced the RMSE value and accurately predicted user ratings, with a value of 4.85, which is close to the true rating of 5. This undoubtedly resulted in better predictions compared to the other two models. However, when considering the RMSE of the other models, the Matrix Factorization model had the lowest RMSE value at 0.88, making it the better-performing model compared to the other two**\n",
        "\n",
        "Despite tuning the Item-Item Similarity model and the Matrix Factorization model, there wasn't a significant improvement in prediction accuracy.\n",
        "\n",
        "In summary, all recommendation systems showed reasonable predictive performance, and none of them stood out as an outstanding model to rely on exclusively."
      ],
      "metadata": {
        "id": "pHJnkr8DwVE4"
      }
    }
  ]
}